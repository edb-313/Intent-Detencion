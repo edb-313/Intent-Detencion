{
 "cells": [
  {
   "cell_type": "code",
   "execution_count": 45,
   "metadata": {
    "_cell_guid": "b1076dfc-b9ad-4769-8c92-a6c4dae69d19",
    "_uuid": "8f2839f25d086af736a60e9eeb907d3b93b6e0e5",
    "execution": {
     "iopub.execute_input": "2023-03-12T22:54:26.907334Z",
     "iopub.status.busy": "2023-03-12T22:54:26.906892Z",
     "iopub.status.idle": "2023-03-12T22:54:26.933950Z",
     "shell.execute_reply": "2023-03-12T22:54:26.932613Z",
     "shell.execute_reply.started": "2023-03-12T22:54:26.907292Z"
    }
   },
   "outputs": [],
   "source": [
    "import numpy as np # linear algebra\n",
    "import pandas as pd # data processing, CSV file I/O (e.g. pd.read_csv)\n",
    "from tensorflow.keras.models import Sequential\n",
    "from tensorflow.keras.layers import Dense, LSTM, Dropout\n",
    "from sklearn.preprocessing import StandardScaler\n",
    "\n",
    "X_train = np.load('/kaggle/input/intent-detection/X_train.npy')\n",
    "X_test = np.load('/kaggle/input/intent-detection/X_test.npy')\n",
    "Y_train = pd.read_csv('/kaggle/input/intent-detection/y_train.csv').Predicted.to_numpy()"
   ]
  },
  {
   "cell_type": "code",
   "execution_count": 36,
   "metadata": {
    "execution": {
     "iopub.execute_input": "2023-03-12T22:43:34.025132Z",
     "iopub.status.busy": "2023-03-12T22:43:34.024726Z",
     "iopub.status.idle": "2023-03-12T22:43:34.032730Z",
     "shell.execute_reply": "2023-03-12T22:43:34.031482Z",
     "shell.execute_reply.started": "2023-03-12T22:43:34.025098Z"
    }
   },
   "outputs": [
    {
     "data": {
      "text/plain": [
       "(1663, 768)"
      ]
     },
     "execution_count": 36,
     "metadata": {},
     "output_type": "execute_result"
    }
   ],
   "source": [
    "X_train.shape\n",
    "#768 features"
   ]
  },
  {
   "cell_type": "code",
   "execution_count": 37,
   "metadata": {
    "execution": {
     "iopub.execute_input": "2023-03-12T22:43:35.821465Z",
     "iopub.status.busy": "2023-03-12T22:43:35.821055Z",
     "iopub.status.idle": "2023-03-12T22:43:35.829396Z",
     "shell.execute_reply": "2023-03-12T22:43:35.828044Z",
     "shell.execute_reply.started": "2023-03-12T22:43:35.821430Z"
    }
   },
   "outputs": [
    {
     "data": {
      "text/plain": [
       "(1663,)"
      ]
     },
     "execution_count": 37,
     "metadata": {},
     "output_type": "execute_result"
    }
   ],
   "source": [
    "Y_train.shape\n",
    "#1663 labels"
   ]
  },
  {
   "cell_type": "code",
   "execution_count": 38,
   "metadata": {
    "execution": {
     "iopub.execute_input": "2023-03-12T22:43:37.846342Z",
     "iopub.status.busy": "2023-03-12T22:43:37.845838Z",
     "iopub.status.idle": "2023-03-12T22:43:37.854846Z",
     "shell.execute_reply": "2023-03-12T22:43:37.853731Z",
     "shell.execute_reply.started": "2023-03-12T22:43:37.846289Z"
    }
   },
   "outputs": [
    {
     "data": {
      "text/plain": [
       "(713, 768)"
      ]
     },
     "execution_count": 38,
     "metadata": {},
     "output_type": "execute_result"
    }
   ],
   "source": [
    "X_test.shape"
   ]
  },
  {
   "cell_type": "code",
   "execution_count": 34,
   "metadata": {
    "execution": {
     "iopub.execute_input": "2023-03-12T22:42:46.012101Z",
     "iopub.status.busy": "2023-03-12T22:42:46.011651Z",
     "iopub.status.idle": "2023-03-12T22:42:46.026941Z",
     "shell.execute_reply": "2023-03-12T22:42:46.025505Z",
     "shell.execute_reply.started": "2023-03-12T22:42:46.012062Z"
    }
   },
   "outputs": [],
   "source": [
    "feat_col = [f'feat{i}' for i in range(X_test.shape[1])]\n",
    "X_train_df = pd.DataFrame(X_train, columns = feat_col)\n",
    "Y_train_df = pd.DataFrame(Y_train,columns = [\"Target\"])\n",
    "XY_train_df = pd.concat([X_train_df, Y_train_df],axis = 1)\n",
    "X_test_df = pd.DataFrame(X_test, columns=feat_col)\n"
   ]
  },
  {
   "cell_type": "code",
   "execution_count": 19,
   "metadata": {
    "execution": {
     "iopub.execute_input": "2023-03-12T22:26:56.280577Z",
     "iopub.status.busy": "2023-03-12T22:26:56.279309Z",
     "iopub.status.idle": "2023-03-12T22:26:56.310337Z",
     "shell.execute_reply": "2023-03-12T22:26:56.308932Z",
     "shell.execute_reply.started": "2023-03-12T22:26:56.280495Z"
    }
   },
   "outputs": [
    {
     "data": {
      "text/html": [
       "<div>\n",
       "<style scoped>\n",
       "    .dataframe tbody tr th:only-of-type {\n",
       "        vertical-align: middle;\n",
       "    }\n",
       "\n",
       "    .dataframe tbody tr th {\n",
       "        vertical-align: top;\n",
       "    }\n",
       "\n",
       "    .dataframe thead th {\n",
       "        text-align: right;\n",
       "    }\n",
       "</style>\n",
       "<table border=\"1\" class=\"dataframe\">\n",
       "  <thead>\n",
       "    <tr style=\"text-align: right;\">\n",
       "      <th></th>\n",
       "      <th>feat0</th>\n",
       "      <th>feat1</th>\n",
       "      <th>feat2</th>\n",
       "      <th>feat3</th>\n",
       "      <th>feat4</th>\n",
       "      <th>feat5</th>\n",
       "      <th>feat6</th>\n",
       "      <th>feat7</th>\n",
       "      <th>feat8</th>\n",
       "      <th>feat9</th>\n",
       "      <th>...</th>\n",
       "      <th>feat759</th>\n",
       "      <th>feat760</th>\n",
       "      <th>feat761</th>\n",
       "      <th>feat762</th>\n",
       "      <th>feat763</th>\n",
       "      <th>feat764</th>\n",
       "      <th>feat765</th>\n",
       "      <th>feat766</th>\n",
       "      <th>feat767</th>\n",
       "      <th>Target</th>\n",
       "    </tr>\n",
       "  </thead>\n",
       "  <tbody>\n",
       "    <tr>\n",
       "      <th>0</th>\n",
       "      <td>-0.064713</td>\n",
       "      <td>0.020554</td>\n",
       "      <td>-0.069173</td>\n",
       "      <td>-0.028174</td>\n",
       "      <td>-0.063835</td>\n",
       "      <td>-0.054158</td>\n",
       "      <td>-0.056317</td>\n",
       "      <td>0.001036</td>\n",
       "      <td>-0.038301</td>\n",
       "      <td>-0.027957</td>\n",
       "      <td>...</td>\n",
       "      <td>-0.049167</td>\n",
       "      <td>-0.019388</td>\n",
       "      <td>-0.045488</td>\n",
       "      <td>-0.051312</td>\n",
       "      <td>-0.022920</td>\n",
       "      <td>-0.034919</td>\n",
       "      <td>-0.020073</td>\n",
       "      <td>-0.052884</td>\n",
       "      <td>0.023714</td>\n",
       "      <td>8</td>\n",
       "    </tr>\n",
       "    <tr>\n",
       "      <th>1</th>\n",
       "      <td>-0.006381</td>\n",
       "      <td>0.007817</td>\n",
       "      <td>-0.022947</td>\n",
       "      <td>0.039866</td>\n",
       "      <td>-0.052437</td>\n",
       "      <td>0.011669</td>\n",
       "      <td>-0.051878</td>\n",
       "      <td>-0.026330</td>\n",
       "      <td>0.040994</td>\n",
       "      <td>-0.052231</td>\n",
       "      <td>...</td>\n",
       "      <td>0.014502</td>\n",
       "      <td>0.007691</td>\n",
       "      <td>-0.025002</td>\n",
       "      <td>-0.004711</td>\n",
       "      <td>0.003568</td>\n",
       "      <td>-0.010177</td>\n",
       "      <td>-0.066476</td>\n",
       "      <td>-0.012160</td>\n",
       "      <td>0.017803</td>\n",
       "      <td>44</td>\n",
       "    </tr>\n",
       "    <tr>\n",
       "      <th>2</th>\n",
       "      <td>0.003579</td>\n",
       "      <td>-0.009228</td>\n",
       "      <td>-0.062796</td>\n",
       "      <td>0.021353</td>\n",
       "      <td>-0.067594</td>\n",
       "      <td>-0.019499</td>\n",
       "      <td>0.029121</td>\n",
       "      <td>-0.013298</td>\n",
       "      <td>0.009264</td>\n",
       "      <td>-0.037961</td>\n",
       "      <td>...</td>\n",
       "      <td>0.038328</td>\n",
       "      <td>-0.005684</td>\n",
       "      <td>-0.033541</td>\n",
       "      <td>0.020269</td>\n",
       "      <td>-0.022111</td>\n",
       "      <td>-0.066562</td>\n",
       "      <td>0.012762</td>\n",
       "      <td>0.018555</td>\n",
       "      <td>0.002605</td>\n",
       "      <td>11</td>\n",
       "    </tr>\n",
       "    <tr>\n",
       "      <th>3</th>\n",
       "      <td>-0.043724</td>\n",
       "      <td>-0.011425</td>\n",
       "      <td>-0.051950</td>\n",
       "      <td>0.014659</td>\n",
       "      <td>-0.046709</td>\n",
       "      <td>-0.002156</td>\n",
       "      <td>-0.033904</td>\n",
       "      <td>0.004498</td>\n",
       "      <td>0.044775</td>\n",
       "      <td>-0.030488</td>\n",
       "      <td>...</td>\n",
       "      <td>-0.036184</td>\n",
       "      <td>-0.055876</td>\n",
       "      <td>0.012600</td>\n",
       "      <td>-0.016588</td>\n",
       "      <td>0.053944</td>\n",
       "      <td>-0.066483</td>\n",
       "      <td>-0.008629</td>\n",
       "      <td>-0.001444</td>\n",
       "      <td>0.025507</td>\n",
       "      <td>24</td>\n",
       "    </tr>\n",
       "    <tr>\n",
       "      <th>4</th>\n",
       "      <td>-0.019088</td>\n",
       "      <td>0.067039</td>\n",
       "      <td>-0.032487</td>\n",
       "      <td>-0.037979</td>\n",
       "      <td>0.014185</td>\n",
       "      <td>-0.007818</td>\n",
       "      <td>-0.059850</td>\n",
       "      <td>0.012668</td>\n",
       "      <td>-0.032715</td>\n",
       "      <td>0.009354</td>\n",
       "      <td>...</td>\n",
       "      <td>-0.065700</td>\n",
       "      <td>-0.043206</td>\n",
       "      <td>0.047978</td>\n",
       "      <td>-0.050414</td>\n",
       "      <td>0.024116</td>\n",
       "      <td>-0.046814</td>\n",
       "      <td>-0.002983</td>\n",
       "      <td>0.050728</td>\n",
       "      <td>0.038645</td>\n",
       "      <td>5</td>\n",
       "    </tr>\n",
       "  </tbody>\n",
       "</table>\n",
       "<p>5 rows × 769 columns</p>\n",
       "</div>"
      ],
      "text/plain": [
       "      feat0     feat1     feat2     feat3     feat4     feat5     feat6  \\\n",
       "0 -0.064713  0.020554 -0.069173 -0.028174 -0.063835 -0.054158 -0.056317   \n",
       "1 -0.006381  0.007817 -0.022947  0.039866 -0.052437  0.011669 -0.051878   \n",
       "2  0.003579 -0.009228 -0.062796  0.021353 -0.067594 -0.019499  0.029121   \n",
       "3 -0.043724 -0.011425 -0.051950  0.014659 -0.046709 -0.002156 -0.033904   \n",
       "4 -0.019088  0.067039 -0.032487 -0.037979  0.014185 -0.007818 -0.059850   \n",
       "\n",
       "      feat7     feat8     feat9  ...   feat759   feat760   feat761   feat762  \\\n",
       "0  0.001036 -0.038301 -0.027957  ... -0.049167 -0.019388 -0.045488 -0.051312   \n",
       "1 -0.026330  0.040994 -0.052231  ...  0.014502  0.007691 -0.025002 -0.004711   \n",
       "2 -0.013298  0.009264 -0.037961  ...  0.038328 -0.005684 -0.033541  0.020269   \n",
       "3  0.004498  0.044775 -0.030488  ... -0.036184 -0.055876  0.012600 -0.016588   \n",
       "4  0.012668 -0.032715  0.009354  ... -0.065700 -0.043206  0.047978 -0.050414   \n",
       "\n",
       "    feat763   feat764   feat765   feat766   feat767  Target  \n",
       "0 -0.022920 -0.034919 -0.020073 -0.052884  0.023714       8  \n",
       "1  0.003568 -0.010177 -0.066476 -0.012160  0.017803      44  \n",
       "2 -0.022111 -0.066562  0.012762  0.018555  0.002605      11  \n",
       "3  0.053944 -0.066483 -0.008629 -0.001444  0.025507      24  \n",
       "4  0.024116 -0.046814 -0.002983  0.050728  0.038645       5  \n",
       "\n",
       "[5 rows x 769 columns]"
      ]
     },
     "execution_count": 19,
     "metadata": {},
     "output_type": "execute_result"
    }
   ],
   "source": [
    "XY_train_df.head()"
   ]
  },
  {
   "cell_type": "code",
   "execution_count": 5,
   "metadata": {
    "execution": {
     "iopub.execute_input": "2023-03-12T22:08:38.743091Z",
     "iopub.status.busy": "2023-03-12T22:08:38.741958Z",
     "iopub.status.idle": "2023-03-12T22:08:38.764272Z",
     "shell.execute_reply": "2023-03-12T22:08:38.763255Z",
     "shell.execute_reply.started": "2023-03-12T22:08:38.743043Z"
    }
   },
   "outputs": [
    {
     "data": {
      "text/html": [
       "<div>\n",
       "<style scoped>\n",
       "    .dataframe tbody tr th:only-of-type {\n",
       "        vertical-align: middle;\n",
       "    }\n",
       "\n",
       "    .dataframe tbody tr th {\n",
       "        vertical-align: top;\n",
       "    }\n",
       "\n",
       "    .dataframe thead th {\n",
       "        text-align: right;\n",
       "    }\n",
       "</style>\n",
       "<table border=\"1\" class=\"dataframe\">\n",
       "  <thead>\n",
       "    <tr style=\"text-align: right;\">\n",
       "      <th></th>\n",
       "      <th>y</th>\n",
       "    </tr>\n",
       "  </thead>\n",
       "  <tbody>\n",
       "    <tr>\n",
       "      <th>0</th>\n",
       "      <td>8</td>\n",
       "    </tr>\n",
       "    <tr>\n",
       "      <th>1</th>\n",
       "      <td>44</td>\n",
       "    </tr>\n",
       "    <tr>\n",
       "      <th>2</th>\n",
       "      <td>11</td>\n",
       "    </tr>\n",
       "    <tr>\n",
       "      <th>3</th>\n",
       "      <td>24</td>\n",
       "    </tr>\n",
       "    <tr>\n",
       "      <th>4</th>\n",
       "      <td>5</td>\n",
       "    </tr>\n",
       "  </tbody>\n",
       "</table>\n",
       "</div>"
      ],
      "text/plain": [
       "    y\n",
       "0   8\n",
       "1  44\n",
       "2  11\n",
       "3  24\n",
       "4   5"
      ]
     },
     "execution_count": 5,
     "metadata": {},
     "output_type": "execute_result"
    }
   ],
   "source": [
    "Y_train_df.head()"
   ]
  },
  {
   "cell_type": "code",
   "execution_count": 47,
   "metadata": {
    "execution": {
     "iopub.execute_input": "2023-03-12T22:55:12.624247Z",
     "iopub.status.busy": "2023-03-12T22:55:12.623838Z",
     "iopub.status.idle": "2023-03-12T22:55:12.650265Z",
     "shell.execute_reply": "2023-03-12T22:55:12.649369Z",
     "shell.execute_reply.started": "2023-03-12T22:55:12.624211Z"
    }
   },
   "outputs": [
    {
     "data": {
      "text/html": [
       "<div>\n",
       "<style scoped>\n",
       "    .dataframe tbody tr th:only-of-type {\n",
       "        vertical-align: middle;\n",
       "    }\n",
       "\n",
       "    .dataframe tbody tr th {\n",
       "        vertical-align: top;\n",
       "    }\n",
       "\n",
       "    .dataframe thead th {\n",
       "        text-align: right;\n",
       "    }\n",
       "</style>\n",
       "<table border=\"1\" class=\"dataframe\">\n",
       "  <thead>\n",
       "    <tr style=\"text-align: right;\">\n",
       "      <th></th>\n",
       "      <th>feat0</th>\n",
       "      <th>feat1</th>\n",
       "      <th>feat2</th>\n",
       "      <th>feat3</th>\n",
       "      <th>feat4</th>\n",
       "      <th>feat5</th>\n",
       "      <th>feat6</th>\n",
       "      <th>feat7</th>\n",
       "      <th>feat8</th>\n",
       "      <th>feat9</th>\n",
       "      <th>...</th>\n",
       "      <th>feat758</th>\n",
       "      <th>feat759</th>\n",
       "      <th>feat760</th>\n",
       "      <th>feat761</th>\n",
       "      <th>feat762</th>\n",
       "      <th>feat763</th>\n",
       "      <th>feat764</th>\n",
       "      <th>feat765</th>\n",
       "      <th>feat766</th>\n",
       "      <th>feat767</th>\n",
       "    </tr>\n",
       "  </thead>\n",
       "  <tbody>\n",
       "    <tr>\n",
       "      <th>0</th>\n",
       "      <td>-0.064713</td>\n",
       "      <td>0.020554</td>\n",
       "      <td>-0.069173</td>\n",
       "      <td>-0.028174</td>\n",
       "      <td>-0.063835</td>\n",
       "      <td>-0.054158</td>\n",
       "      <td>-0.056317</td>\n",
       "      <td>0.001036</td>\n",
       "      <td>-0.038301</td>\n",
       "      <td>-0.027957</td>\n",
       "      <td>...</td>\n",
       "      <td>0.042405</td>\n",
       "      <td>-0.049167</td>\n",
       "      <td>-0.019388</td>\n",
       "      <td>-0.045488</td>\n",
       "      <td>-0.051312</td>\n",
       "      <td>-0.022920</td>\n",
       "      <td>-0.034919</td>\n",
       "      <td>-0.020073</td>\n",
       "      <td>-0.052884</td>\n",
       "      <td>0.023714</td>\n",
       "    </tr>\n",
       "    <tr>\n",
       "      <th>1</th>\n",
       "      <td>-0.006381</td>\n",
       "      <td>0.007817</td>\n",
       "      <td>-0.022947</td>\n",
       "      <td>0.039866</td>\n",
       "      <td>-0.052437</td>\n",
       "      <td>0.011669</td>\n",
       "      <td>-0.051878</td>\n",
       "      <td>-0.026330</td>\n",
       "      <td>0.040994</td>\n",
       "      <td>-0.052231</td>\n",
       "      <td>...</td>\n",
       "      <td>0.059453</td>\n",
       "      <td>0.014502</td>\n",
       "      <td>0.007691</td>\n",
       "      <td>-0.025002</td>\n",
       "      <td>-0.004711</td>\n",
       "      <td>0.003568</td>\n",
       "      <td>-0.010177</td>\n",
       "      <td>-0.066476</td>\n",
       "      <td>-0.012160</td>\n",
       "      <td>0.017803</td>\n",
       "    </tr>\n",
       "    <tr>\n",
       "      <th>2</th>\n",
       "      <td>0.003579</td>\n",
       "      <td>-0.009228</td>\n",
       "      <td>-0.062796</td>\n",
       "      <td>0.021353</td>\n",
       "      <td>-0.067594</td>\n",
       "      <td>-0.019499</td>\n",
       "      <td>0.029121</td>\n",
       "      <td>-0.013298</td>\n",
       "      <td>0.009264</td>\n",
       "      <td>-0.037961</td>\n",
       "      <td>...</td>\n",
       "      <td>-0.041462</td>\n",
       "      <td>0.038328</td>\n",
       "      <td>-0.005684</td>\n",
       "      <td>-0.033541</td>\n",
       "      <td>0.020269</td>\n",
       "      <td>-0.022111</td>\n",
       "      <td>-0.066562</td>\n",
       "      <td>0.012762</td>\n",
       "      <td>0.018555</td>\n",
       "      <td>0.002605</td>\n",
       "    </tr>\n",
       "    <tr>\n",
       "      <th>3</th>\n",
       "      <td>-0.043724</td>\n",
       "      <td>-0.011425</td>\n",
       "      <td>-0.051950</td>\n",
       "      <td>0.014659</td>\n",
       "      <td>-0.046709</td>\n",
       "      <td>-0.002156</td>\n",
       "      <td>-0.033904</td>\n",
       "      <td>0.004498</td>\n",
       "      <td>0.044775</td>\n",
       "      <td>-0.030488</td>\n",
       "      <td>...</td>\n",
       "      <td>-0.007816</td>\n",
       "      <td>-0.036184</td>\n",
       "      <td>-0.055876</td>\n",
       "      <td>0.012600</td>\n",
       "      <td>-0.016588</td>\n",
       "      <td>0.053944</td>\n",
       "      <td>-0.066483</td>\n",
       "      <td>-0.008629</td>\n",
       "      <td>-0.001444</td>\n",
       "      <td>0.025507</td>\n",
       "    </tr>\n",
       "    <tr>\n",
       "      <th>4</th>\n",
       "      <td>-0.019088</td>\n",
       "      <td>0.067039</td>\n",
       "      <td>-0.032487</td>\n",
       "      <td>-0.037979</td>\n",
       "      <td>0.014185</td>\n",
       "      <td>-0.007818</td>\n",
       "      <td>-0.059850</td>\n",
       "      <td>0.012668</td>\n",
       "      <td>-0.032715</td>\n",
       "      <td>0.009354</td>\n",
       "      <td>...</td>\n",
       "      <td>0.038573</td>\n",
       "      <td>-0.065700</td>\n",
       "      <td>-0.043206</td>\n",
       "      <td>0.047978</td>\n",
       "      <td>-0.050414</td>\n",
       "      <td>0.024116</td>\n",
       "      <td>-0.046814</td>\n",
       "      <td>-0.002983</td>\n",
       "      <td>0.050728</td>\n",
       "      <td>0.038645</td>\n",
       "    </tr>\n",
       "  </tbody>\n",
       "</table>\n",
       "<p>5 rows × 768 columns</p>\n",
       "</div>"
      ],
      "text/plain": [
       "      feat0     feat1     feat2     feat3     feat4     feat5     feat6  \\\n",
       "0 -0.064713  0.020554 -0.069173 -0.028174 -0.063835 -0.054158 -0.056317   \n",
       "1 -0.006381  0.007817 -0.022947  0.039866 -0.052437  0.011669 -0.051878   \n",
       "2  0.003579 -0.009228 -0.062796  0.021353 -0.067594 -0.019499  0.029121   \n",
       "3 -0.043724 -0.011425 -0.051950  0.014659 -0.046709 -0.002156 -0.033904   \n",
       "4 -0.019088  0.067039 -0.032487 -0.037979  0.014185 -0.007818 -0.059850   \n",
       "\n",
       "      feat7     feat8     feat9  ...   feat758   feat759   feat760   feat761  \\\n",
       "0  0.001036 -0.038301 -0.027957  ...  0.042405 -0.049167 -0.019388 -0.045488   \n",
       "1 -0.026330  0.040994 -0.052231  ...  0.059453  0.014502  0.007691 -0.025002   \n",
       "2 -0.013298  0.009264 -0.037961  ... -0.041462  0.038328 -0.005684 -0.033541   \n",
       "3  0.004498  0.044775 -0.030488  ... -0.007816 -0.036184 -0.055876  0.012600   \n",
       "4  0.012668 -0.032715  0.009354  ...  0.038573 -0.065700 -0.043206  0.047978   \n",
       "\n",
       "    feat762   feat763   feat764   feat765   feat766   feat767  \n",
       "0 -0.051312 -0.022920 -0.034919 -0.020073 -0.052884  0.023714  \n",
       "1 -0.004711  0.003568 -0.010177 -0.066476 -0.012160  0.017803  \n",
       "2  0.020269 -0.022111 -0.066562  0.012762  0.018555  0.002605  \n",
       "3 -0.016588  0.053944 -0.066483 -0.008629 -0.001444  0.025507  \n",
       "4 -0.050414  0.024116 -0.046814 -0.002983  0.050728  0.038645  \n",
       "\n",
       "[5 rows x 768 columns]"
      ]
     },
     "execution_count": 47,
     "metadata": {},
     "output_type": "execute_result"
    }
   ],
   "source": [
    "X_train_df.head()"
   ]
  },
  {
   "cell_type": "code",
   "execution_count": 46,
   "metadata": {
    "execution": {
     "iopub.execute_input": "2023-03-12T22:55:09.337691Z",
     "iopub.status.busy": "2023-03-12T22:55:09.337239Z",
     "iopub.status.idle": "2023-03-12T22:55:09.368174Z",
     "shell.execute_reply": "2023-03-12T22:55:09.366709Z",
     "shell.execute_reply.started": "2023-03-12T22:55:09.337648Z"
    }
   },
   "outputs": [
    {
     "data": {
      "text/html": [
       "<div>\n",
       "<style scoped>\n",
       "    .dataframe tbody tr th:only-of-type {\n",
       "        vertical-align: middle;\n",
       "    }\n",
       "\n",
       "    .dataframe tbody tr th {\n",
       "        vertical-align: top;\n",
       "    }\n",
       "\n",
       "    .dataframe thead th {\n",
       "        text-align: right;\n",
       "    }\n",
       "</style>\n",
       "<table border=\"1\" class=\"dataframe\">\n",
       "  <thead>\n",
       "    <tr style=\"text-align: right;\">\n",
       "      <th></th>\n",
       "      <th>feat0</th>\n",
       "      <th>feat1</th>\n",
       "      <th>feat2</th>\n",
       "      <th>feat3</th>\n",
       "      <th>feat4</th>\n",
       "      <th>feat5</th>\n",
       "      <th>feat6</th>\n",
       "      <th>feat7</th>\n",
       "      <th>feat8</th>\n",
       "      <th>feat9</th>\n",
       "      <th>...</th>\n",
       "      <th>feat758</th>\n",
       "      <th>feat759</th>\n",
       "      <th>feat760</th>\n",
       "      <th>feat761</th>\n",
       "      <th>feat762</th>\n",
       "      <th>feat763</th>\n",
       "      <th>feat764</th>\n",
       "      <th>feat765</th>\n",
       "      <th>feat766</th>\n",
       "      <th>feat767</th>\n",
       "    </tr>\n",
       "  </thead>\n",
       "  <tbody>\n",
       "    <tr>\n",
       "      <th>0</th>\n",
       "      <td>-0.028341</td>\n",
       "      <td>-0.013976</td>\n",
       "      <td>0.027482</td>\n",
       "      <td>0.018902</td>\n",
       "      <td>-0.061030</td>\n",
       "      <td>-0.010846</td>\n",
       "      <td>-0.036913</td>\n",
       "      <td>-0.034498</td>\n",
       "      <td>0.058866</td>\n",
       "      <td>-0.014550</td>\n",
       "      <td>...</td>\n",
       "      <td>0.060303</td>\n",
       "      <td>-0.033084</td>\n",
       "      <td>-0.039746</td>\n",
       "      <td>0.038668</td>\n",
       "      <td>-0.024701</td>\n",
       "      <td>0.000322</td>\n",
       "      <td>-0.077359</td>\n",
       "      <td>0.024810</td>\n",
       "      <td>-0.036909</td>\n",
       "      <td>0.045314</td>\n",
       "    </tr>\n",
       "    <tr>\n",
       "      <th>1</th>\n",
       "      <td>-0.014473</td>\n",
       "      <td>-0.037281</td>\n",
       "      <td>0.017812</td>\n",
       "      <td>0.027492</td>\n",
       "      <td>0.020230</td>\n",
       "      <td>-0.009877</td>\n",
       "      <td>-0.054037</td>\n",
       "      <td>0.025131</td>\n",
       "      <td>0.029863</td>\n",
       "      <td>-0.029646</td>\n",
       "      <td>...</td>\n",
       "      <td>-0.002850</td>\n",
       "      <td>-0.043410</td>\n",
       "      <td>-0.012185</td>\n",
       "      <td>-0.049657</td>\n",
       "      <td>-0.005346</td>\n",
       "      <td>-0.014185</td>\n",
       "      <td>0.005000</td>\n",
       "      <td>-0.007676</td>\n",
       "      <td>0.025819</td>\n",
       "      <td>0.036317</td>\n",
       "    </tr>\n",
       "    <tr>\n",
       "      <th>2</th>\n",
       "      <td>-0.022636</td>\n",
       "      <td>-0.001754</td>\n",
       "      <td>-0.009812</td>\n",
       "      <td>-0.030182</td>\n",
       "      <td>-0.061902</td>\n",
       "      <td>0.032183</td>\n",
       "      <td>-0.079847</td>\n",
       "      <td>-0.030968</td>\n",
       "      <td>0.012289</td>\n",
       "      <td>0.009093</td>\n",
       "      <td>...</td>\n",
       "      <td>-0.032143</td>\n",
       "      <td>0.016097</td>\n",
       "      <td>-0.052526</td>\n",
       "      <td>0.046948</td>\n",
       "      <td>-0.007215</td>\n",
       "      <td>0.029919</td>\n",
       "      <td>-0.027418</td>\n",
       "      <td>-0.051822</td>\n",
       "      <td>0.014895</td>\n",
       "      <td>-0.043391</td>\n",
       "    </tr>\n",
       "    <tr>\n",
       "      <th>3</th>\n",
       "      <td>-0.040850</td>\n",
       "      <td>-0.023058</td>\n",
       "      <td>-0.033664</td>\n",
       "      <td>0.016514</td>\n",
       "      <td>-0.075332</td>\n",
       "      <td>-0.065355</td>\n",
       "      <td>-0.057857</td>\n",
       "      <td>0.007287</td>\n",
       "      <td>-0.013866</td>\n",
       "      <td>-0.010538</td>\n",
       "      <td>...</td>\n",
       "      <td>-0.054553</td>\n",
       "      <td>0.036248</td>\n",
       "      <td>-0.065568</td>\n",
       "      <td>0.011958</td>\n",
       "      <td>0.034914</td>\n",
       "      <td>-0.029956</td>\n",
       "      <td>-0.060300</td>\n",
       "      <td>-0.025076</td>\n",
       "      <td>0.040312</td>\n",
       "      <td>0.006233</td>\n",
       "    </tr>\n",
       "    <tr>\n",
       "      <th>4</th>\n",
       "      <td>0.005932</td>\n",
       "      <td>-0.038425</td>\n",
       "      <td>0.048765</td>\n",
       "      <td>0.021749</td>\n",
       "      <td>-0.065592</td>\n",
       "      <td>-0.034451</td>\n",
       "      <td>0.007840</td>\n",
       "      <td>-0.012663</td>\n",
       "      <td>0.003260</td>\n",
       "      <td>-0.010410</td>\n",
       "      <td>...</td>\n",
       "      <td>-0.029770</td>\n",
       "      <td>-0.043370</td>\n",
       "      <td>-0.063726</td>\n",
       "      <td>-0.004431</td>\n",
       "      <td>-0.012578</td>\n",
       "      <td>-0.062581</td>\n",
       "      <td>-0.068841</td>\n",
       "      <td>-0.040079</td>\n",
       "      <td>-0.040869</td>\n",
       "      <td>-0.014907</td>\n",
       "    </tr>\n",
       "  </tbody>\n",
       "</table>\n",
       "<p>5 rows × 768 columns</p>\n",
       "</div>"
      ],
      "text/plain": [
       "      feat0     feat1     feat2     feat3     feat4     feat5     feat6  \\\n",
       "0 -0.028341 -0.013976  0.027482  0.018902 -0.061030 -0.010846 -0.036913   \n",
       "1 -0.014473 -0.037281  0.017812  0.027492  0.020230 -0.009877 -0.054037   \n",
       "2 -0.022636 -0.001754 -0.009812 -0.030182 -0.061902  0.032183 -0.079847   \n",
       "3 -0.040850 -0.023058 -0.033664  0.016514 -0.075332 -0.065355 -0.057857   \n",
       "4  0.005932 -0.038425  0.048765  0.021749 -0.065592 -0.034451  0.007840   \n",
       "\n",
       "      feat7     feat8     feat9  ...   feat758   feat759   feat760   feat761  \\\n",
       "0 -0.034498  0.058866 -0.014550  ...  0.060303 -0.033084 -0.039746  0.038668   \n",
       "1  0.025131  0.029863 -0.029646  ... -0.002850 -0.043410 -0.012185 -0.049657   \n",
       "2 -0.030968  0.012289  0.009093  ... -0.032143  0.016097 -0.052526  0.046948   \n",
       "3  0.007287 -0.013866 -0.010538  ... -0.054553  0.036248 -0.065568  0.011958   \n",
       "4 -0.012663  0.003260 -0.010410  ... -0.029770 -0.043370 -0.063726 -0.004431   \n",
       "\n",
       "    feat762   feat763   feat764   feat765   feat766   feat767  \n",
       "0 -0.024701  0.000322 -0.077359  0.024810 -0.036909  0.045314  \n",
       "1 -0.005346 -0.014185  0.005000 -0.007676  0.025819  0.036317  \n",
       "2 -0.007215  0.029919 -0.027418 -0.051822  0.014895 -0.043391  \n",
       "3  0.034914 -0.029956 -0.060300 -0.025076  0.040312  0.006233  \n",
       "4 -0.012578 -0.062581 -0.068841 -0.040079 -0.040869 -0.014907  \n",
       "\n",
       "[5 rows x 768 columns]"
      ]
     },
     "execution_count": 46,
     "metadata": {},
     "output_type": "execute_result"
    }
   ],
   "source": [
    "X_test_df.head()"
   ]
  },
  {
   "cell_type": "code",
   "execution_count": 14,
   "metadata": {
    "execution": {
     "iopub.execute_input": "2023-03-12T22:20:35.832598Z",
     "iopub.status.busy": "2023-03-12T22:20:35.832133Z",
     "iopub.status.idle": "2023-03-12T22:20:46.656201Z",
     "shell.execute_reply": "2023-03-12T22:20:46.654761Z",
     "shell.execute_reply.started": "2023-03-12T22:20:35.832554Z"
    }
   },
   "outputs": [],
   "source": [
    "import umap\n",
    "import matplotlib.pyplot as plt\n",
    "reducer = umap.UMAP(n_neighbors = 15)"
   ]
  },
  {
   "cell_type": "code",
   "execution_count": 15,
   "metadata": {
    "execution": {
     "iopub.execute_input": "2023-03-12T22:21:28.998645Z",
     "iopub.status.busy": "2023-03-12T22:21:28.996781Z",
     "iopub.status.idle": "2023-03-12T22:21:43.752592Z",
     "shell.execute_reply": "2023-03-12T22:21:43.750762Z",
     "shell.execute_reply.started": "2023-03-12T22:21:28.998580Z"
    }
   },
   "outputs": [
    {
     "data": {
      "image/png": "[encoded data removed]",
      "text/plain": [
       "<Figure size 640x480 with 2 Axes>"
      ]
     },
     "metadata": {},
     "output_type": "display_data"
    }
   ],
   "source": [
    "embedding = reducer.fit_transform(XY_train_df.iloc[:,:-1])\n",
    "\n",
    "plt.scatter(\n",
    "    embedding[:, 0],\n",
    "    embedding[:, 1],\n",
    "    c= XY_train_df.iloc[:,-1],\n",
    "    cmap = 'Spectral', s= 15\n",
    ")\n",
    "plt.gca().set_aspect('equal', 'datalim')\n",
    "plt.title('UMAP projection of XY_train_df', fontsize=24);\n",
    "plt.colorbar(boundaries=np.arange(45)-0.5).set_ticks(np.arange(44))"
   ]
  },
  {
   "cell_type": "code",
   "execution_count": 11,
   "metadata": {
    "execution": {
     "iopub.execute_input": "2023-03-12T22:14:49.918024Z",
     "iopub.status.busy": "2023-03-12T22:14:49.917645Z",
     "iopub.status.idle": "2023-03-12T22:14:50.717929Z",
     "shell.execute_reply": "2023-03-12T22:14:50.716607Z",
     "shell.execute_reply.started": "2023-03-12T22:14:49.917993Z"
    }
   },
   "outputs": [],
   "source": [
    "missing_data = XY_train_df.isnull()\n",
    "for col in missing_data.columns.values.tolist():\n",
    "    sum = missing_data[[col]].astype(bool).sum(axis=0)\n",
    "    if sum[0] != 0:\n",
    "        print(sum)\n",
    "        \n",
    "#no missing data"
   ]
  },
  {
   "cell_type": "code",
   "execution_count": 20,
   "metadata": {
    "execution": {
     "iopub.execute_input": "2023-03-12T22:27:09.789202Z",
     "iopub.status.busy": "2023-03-12T22:27:09.788174Z",
     "iopub.status.idle": "2023-03-12T22:27:11.252667Z",
     "shell.execute_reply": "2023-03-12T22:27:11.251271Z",
     "shell.execute_reply.started": "2023-03-12T22:27:09.789151Z"
    }
   },
   "outputs": [],
   "source": [
    "XY_train_df.to_csv(\"XY_train.csv\")"
   ]
  },
  {
   "cell_type": "code",
   "execution_count": 23,
   "metadata": {
    "execution": {
     "iopub.execute_input": "2023-03-12T22:32:31.400039Z",
     "iopub.status.busy": "2023-03-12T22:32:31.399579Z",
     "iopub.status.idle": "2023-03-12T22:32:31.556857Z",
     "shell.execute_reply": "2023-03-12T22:32:31.555413Z",
     "shell.execute_reply.started": "2023-03-12T22:32:31.399997Z"
    }
   },
   "outputs": [
    {
     "data": {
      "text/plain": [
       "0       False\n",
       "1       False\n",
       "2       False\n",
       "3       False\n",
       "4       False\n",
       "        ...  \n",
       "1658    False\n",
       "1659    False\n",
       "1660    False\n",
       "1661    False\n",
       "1662    False\n",
       "Length: 1663, dtype: bool"
      ]
     },
     "execution_count": 23,
     "metadata": {},
     "output_type": "execute_result"
    }
   ],
   "source": [
    "XY_train_df.duplicated()"
   ]
  },
  {
   "cell_type": "code",
   "execution_count": 25,
   "metadata": {
    "execution": {
     "iopub.execute_input": "2023-03-12T22:37:51.033753Z",
     "iopub.status.busy": "2023-03-12T22:37:51.033327Z",
     "iopub.status.idle": "2023-03-12T22:37:51.189343Z",
     "shell.execute_reply": "2023-03-12T22:37:51.188110Z",
     "shell.execute_reply.started": "2023-03-12T22:37:51.033717Z"
    }
   },
   "outputs": [
    {
     "data": {
      "text/plain": [
       "31"
      ]
     },
     "execution_count": 25,
     "metadata": {},
     "output_type": "execute_result"
    }
   ],
   "source": [
    "XY_train_df.duplicated().sum()\n",
    "#31 duplicate rows found"
   ]
  },
  {
   "cell_type": "code",
   "execution_count": 28,
   "metadata": {
    "execution": {
     "iopub.execute_input": "2023-03-12T22:38:11.823257Z",
     "iopub.status.busy": "2023-03-12T22:38:11.822419Z",
     "iopub.status.idle": "2023-03-12T22:38:11.981681Z",
     "shell.execute_reply": "2023-03-12T22:38:11.979937Z",
     "shell.execute_reply.started": "2023-03-12T22:38:11.823208Z"
    }
   },
   "outputs": [],
   "source": [
    "XY_train_df = XY_train_df.drop_duplicates()"
   ]
  },
  {
   "cell_type": "code",
   "execution_count": 44,
   "metadata": {
    "execution": {
     "iopub.execute_input": "2023-03-12T22:46:03.950728Z",
     "iopub.status.busy": "2023-03-12T22:46:03.950015Z",
     "iopub.status.idle": "2023-03-12T22:46:04.116397Z",
     "shell.execute_reply": "2023-03-12T22:46:04.114959Z",
     "shell.execute_reply.started": "2023-03-12T22:46:03.950689Z"
    }
   },
   "outputs": [
    {
     "data": {
      "text/plain": [
       "0"
      ]
     },
     "execution_count": 44,
     "metadata": {},
     "output_type": "execute_result"
    }
   ],
   "source": [
    "X_test_df.duplicated().sum()"
   ]
  },
  {
   "cell_type": "code",
   "execution_count": 43,
   "metadata": {
    "execution": {
     "iopub.execute_input": "2023-03-12T22:46:02.098426Z",
     "iopub.status.busy": "2023-03-12T22:46:02.097995Z",
     "iopub.status.idle": "2023-03-12T22:46:02.220936Z",
     "shell.execute_reply": "2023-03-12T22:46:02.219550Z",
     "shell.execute_reply.started": "2023-03-12T22:46:02.098390Z"
    }
   },
   "outputs": [],
   "source": [
    "X_test_df = X_test_df.drop_duplicates()"
   ]
  },
  {
   "cell_type": "code",
   "execution_count": 48,
   "metadata": {
    "execution": {
     "iopub.execute_input": "2023-03-12T22:57:02.864909Z",
     "iopub.status.busy": "2023-03-12T22:57:02.864467Z",
     "iopub.status.idle": "2023-03-12T22:57:03.214420Z",
     "shell.execute_reply": "2023-03-12T22:57:03.212762Z",
     "shell.execute_reply.started": "2023-03-12T22:57:02.864874Z"
    }
   },
   "outputs": [
    {
     "ename": "NameError",
     "evalue": "name 'y_train' is not defined",
     "output_type": "error",
     "traceback": [
      "\u001b[0;31m---------------------------------------------------------------------------\u001b[0m",
      "\u001b[0;31mNameError\u001b[0m                                 Traceback (most recent call last)",
      "\u001b[0;32m/tmp/ipykernel_128/3860234039.py\u001b[0m in \u001b[0;36m<module>\u001b[0;34m\u001b[0m\n\u001b[1;32m     13\u001b[0m \u001b[0;34m\u001b[0m\u001b[0m\n\u001b[1;32m     14\u001b[0m \u001b[0;31m# Train model\u001b[0m\u001b[0;34m\u001b[0m\u001b[0;34m\u001b[0m\u001b[0;34m\u001b[0m\u001b[0m\n\u001b[0;32m---> 15\u001b[0;31m \u001b[0mmodel\u001b[0m\u001b[0;34m.\u001b[0m\u001b[0mfit\u001b[0m\u001b[0;34m(\u001b[0m\u001b[0mX_train\u001b[0m\u001b[0;34m,\u001b[0m \u001b[0my_train\u001b[0m\u001b[0;34m,\u001b[0m \u001b[0mvalidation_split\u001b[0m\u001b[0;34m=\u001b[0m\u001b[0;36m0.2\u001b[0m\u001b[0;34m,\u001b[0m \u001b[0mepochs\u001b[0m\u001b[0;34m=\u001b[0m\u001b[0;36m50\u001b[0m\u001b[0;34m,\u001b[0m \u001b[0mbatch_size\u001b[0m\u001b[0;34m=\u001b[0m\u001b[0;36m64\u001b[0m\u001b[0;34m)\u001b[0m\u001b[0;34m\u001b[0m\u001b[0;34m\u001b[0m\u001b[0m\n\u001b[0m",
      "\u001b[0;31mNameError\u001b[0m: name 'y_train' is not defined"
     ]
    }
   ],
   "source": [
    "# Define the model\n",
    "model = Sequential()\n",
    "model.add(Dense(units=512, activation='relu', input_dim=X_train.shape[1]))\n",
    "model.add(Dropout(0.2))\n",
    "model.add(Dense(units=256, activation='relu'))\n",
    "model.add(Dropout(0.2))\n",
    "model.add(Dense(units=128, activation='relu'))\n",
    "model.add(Dropout(0.2))\n",
    "model.add(Dense(units=45, activation='softmax'))\n",
    "\n",
    "# Compile model\n",
    "model.compile(optimizer='adam', loss='sparse_categorical_crossentropy', metrics=['accuracy'])\n",
    "\n",
    "# Train model\n",
    "model.fit(X_train, y_train, validation_split=0.2, epochs=50, batch_size=64)"
   ]
  }
 ],
 "metadata": {
  "kernelspec": {
   "display_name": "Python 3 (ipykernel)",
   "language": "python",
   "name": "python3"
  },
  "language_info": {
   "codemirror_mode": {
    "name": "ipython",
    "version": 3
   },
   "file_extension": ".py",
   "mimetype": "text/x-python",
   "name": "python",
   "nbconvert_exporter": "python",
   "pygments_lexer": "ipython3",
   "version": "3.9.13"
  }
 },
 "nbformat": 4,
 "nbformat_minor": 4
}
