{
 "cells": [
  {
   "cell_type": "code",
   "execution_count": 1,
   "id": "2de812fc",
   "metadata": {
    "_cell_guid": "b1076dfc-b9ad-4769-8c92-a6c4dae69d19",
    "_uuid": "8f2839f25d086af736a60e9eeb907d3b93b6e0e5",
    "execution": {
     "iopub.execute_input": "2023-03-17T17:07:31.601715Z",
     "iopub.status.busy": "2023-03-17T17:07:31.600525Z",
     "iopub.status.idle": "2023-03-17T17:07:41.902601Z",
     "shell.execute_reply": "2023-03-17T17:07:41.901394Z"
    },
    "papermill": {
     "duration": 10.314269,
     "end_time": "2023-03-17T17:07:41.905457",
     "exception": false,
     "start_time": "2023-03-17T17:07:31.591188",
     "status": "completed"
    },
    "tags": []
   },
   "outputs": [],
   "source": [
    "import numpy as np # linear algebra\n",
    "import pandas as pd # data processing, CSV file I/O (e.g. pd.read_csv)\n",
    "from tensorflow.keras.models import Sequential\n",
    "from tensorflow.keras.layers import Dense, LSTM, Dropout\n",
    "from sklearn.preprocessing import StandardScaler\n",
    "import sklearn.datasets\n",
    "import sklearn.neighbors\n",
    "\n",
    "X_train = np.load('/kaggle/input/intent-detection/X_train.npy')\n",
    "X_test = np.load('/kaggle/input/intent-detection/X_test.npy')\n",
    "Y_train = pd.read_csv('/kaggle/input/intent-detection/y_train.csv').Predicted.to_numpy()"
   ]
  },
  {
   "cell_type": "code",
   "execution_count": 2,
   "id": "fd7e7980",
   "metadata": {
    "execution": {
     "iopub.execute_input": "2023-03-17T17:07:41.920909Z",
     "iopub.status.busy": "2023-03-17T17:07:41.920148Z",
     "iopub.status.idle": "2023-03-17T17:07:41.927842Z",
     "shell.execute_reply": "2023-03-17T17:07:41.926955Z"
    },
    "papermill": {
     "duration": 0.017973,
     "end_time": "2023-03-17T17:07:41.930179",
     "exception": false,
     "start_time": "2023-03-17T17:07:41.912206",
     "status": "completed"
    },
    "tags": []
   },
   "outputs": [
    {
     "data": {
      "text/plain": [
       "(1663, 768)"
      ]
     },
     "execution_count": 2,
     "metadata": {},
     "output_type": "execute_result"
    }
   ],
   "source": [
    "X_train.shape\n",
    "#768 features"
   ]
  },
  {
   "cell_type": "code",
   "execution_count": 3,
   "id": "4ef604ed",
   "metadata": {
    "execution": {
     "iopub.execute_input": "2023-03-17T17:07:41.944777Z",
     "iopub.status.busy": "2023-03-17T17:07:41.944324Z",
     "iopub.status.idle": "2023-03-17T17:07:41.950516Z",
     "shell.execute_reply": "2023-03-17T17:07:41.949567Z"
    },
    "papermill": {
     "duration": 0.016547,
     "end_time": "2023-03-17T17:07:41.953013",
     "exception": false,
     "start_time": "2023-03-17T17:07:41.936466",
     "status": "completed"
    },
    "tags": []
   },
   "outputs": [
    {
     "data": {
      "text/plain": [
       "(1663,)"
      ]
     },
     "execution_count": 3,
     "metadata": {},
     "output_type": "execute_result"
    }
   ],
   "source": [
    "Y_train.shape\n",
    "#1663 labels"
   ]
  },
  {
   "cell_type": "code",
   "execution_count": 4,
   "id": "ffab60ab",
   "metadata": {
    "execution": {
     "iopub.execute_input": "2023-03-17T17:07:41.967870Z",
     "iopub.status.busy": "2023-03-17T17:07:41.967429Z",
     "iopub.status.idle": "2023-03-17T17:07:41.974778Z",
     "shell.execute_reply": "2023-03-17T17:07:41.973476Z"
    },
    "papermill": {
     "duration": 0.017727,
     "end_time": "2023-03-17T17:07:41.977319",
     "exception": false,
     "start_time": "2023-03-17T17:07:41.959592",
     "status": "completed"
    },
    "tags": []
   },
   "outputs": [
    {
     "data": {
      "text/plain": [
       "(713, 768)"
      ]
     },
     "execution_count": 4,
     "metadata": {},
     "output_type": "execute_result"
    }
   ],
   "source": [
    "X_test.shape"
   ]
  },
  {
   "cell_type": "code",
   "execution_count": 5,
   "id": "8555b7b9",
   "metadata": {
    "execution": {
     "iopub.execute_input": "2023-03-17T17:07:41.992674Z",
     "iopub.status.busy": "2023-03-17T17:07:41.991956Z",
     "iopub.status.idle": "2023-03-17T17:07:42.008544Z",
     "shell.execute_reply": "2023-03-17T17:07:42.007370Z"
    },
    "papermill": {
     "duration": 0.027448,
     "end_time": "2023-03-17T17:07:42.011231",
     "exception": false,
     "start_time": "2023-03-17T17:07:41.983783",
     "status": "completed"
    },
    "tags": []
   },
   "outputs": [],
   "source": [
    "feat_col = [f'feat{i}' for i in range(X_test.shape[1])]\n",
    "X_train_df = pd.DataFrame(X_train, columns = feat_col)\n",
    "Y_train_df = pd.DataFrame(Y_train,columns = [\"Target\"])\n",
    "XY_train_df = pd.concat([X_train_df, Y_train_df],axis = 1)\n",
    "X_test_df = pd.DataFrame(X_test, columns=feat_col)\n"
   ]
  },
  {
   "cell_type": "code",
   "execution_count": 6,
   "id": "56817f89",
   "metadata": {
    "execution": {
     "iopub.execute_input": "2023-03-17T17:07:42.026732Z",
     "iopub.status.busy": "2023-03-17T17:07:42.026020Z",
     "iopub.status.idle": "2023-03-17T17:07:42.064654Z",
     "shell.execute_reply": "2023-03-17T17:07:42.063260Z"
    },
    "papermill": {
     "duration": 0.049586,
     "end_time": "2023-03-17T17:07:42.067465",
     "exception": false,
     "start_time": "2023-03-17T17:07:42.017879",
     "status": "completed"
    },
    "tags": []
   },
   "outputs": [
    {
     "data": {
      "text/html": [
       "<div>\n",
       "<style scoped>\n",
       "    .dataframe tbody tr th:only-of-type {\n",
       "        vertical-align: middle;\n",
       "    }\n",
       "\n",
       "    .dataframe tbody tr th {\n",
       "        vertical-align: top;\n",
       "    }\n",
       "\n",
       "    .dataframe thead th {\n",
       "        text-align: right;\n",
       "    }\n",
       "</style>\n",
       "<table border=\"1\" class=\"dataframe\">\n",
       "  <thead>\n",
       "    <tr style=\"text-align: right;\">\n",
       "      <th></th>\n",
       "      <th>feat0</th>\n",
       "      <th>feat1</th>\n",
       "      <th>feat2</th>\n",
       "      <th>feat3</th>\n",
       "      <th>feat4</th>\n",
       "      <th>feat5</th>\n",
       "      <th>feat6</th>\n",
       "      <th>feat7</th>\n",
       "      <th>feat8</th>\n",
       "      <th>feat9</th>\n",
       "      <th>...</th>\n",
       "      <th>feat759</th>\n",
       "      <th>feat760</th>\n",
       "      <th>feat761</th>\n",
       "      <th>feat762</th>\n",
       "      <th>feat763</th>\n",
       "      <th>feat764</th>\n",
       "      <th>feat765</th>\n",
       "      <th>feat766</th>\n",
       "      <th>feat767</th>\n",
       "      <th>Target</th>\n",
       "    </tr>\n",
       "  </thead>\n",
       "  <tbody>\n",
       "    <tr>\n",
       "      <th>0</th>\n",
       "      <td>-0.064713</td>\n",
       "      <td>0.020554</td>\n",
       "      <td>-0.069173</td>\n",
       "      <td>-0.028174</td>\n",
       "      <td>-0.063835</td>\n",
       "      <td>-0.054158</td>\n",
       "      <td>-0.056317</td>\n",
       "      <td>0.001036</td>\n",
       "      <td>-0.038301</td>\n",
       "      <td>-0.027957</td>\n",
       "      <td>...</td>\n",
       "      <td>-0.049167</td>\n",
       "      <td>-0.019388</td>\n",
       "      <td>-0.045488</td>\n",
       "      <td>-0.051312</td>\n",
       "      <td>-0.022920</td>\n",
       "      <td>-0.034919</td>\n",
       "      <td>-0.020073</td>\n",
       "      <td>-0.052884</td>\n",
       "      <td>0.023714</td>\n",
       "      <td>8</td>\n",
       "    </tr>\n",
       "    <tr>\n",
       "      <th>1</th>\n",
       "      <td>-0.006381</td>\n",
       "      <td>0.007817</td>\n",
       "      <td>-0.022947</td>\n",
       "      <td>0.039866</td>\n",
       "      <td>-0.052437</td>\n",
       "      <td>0.011669</td>\n",
       "      <td>-0.051878</td>\n",
       "      <td>-0.026330</td>\n",
       "      <td>0.040994</td>\n",
       "      <td>-0.052231</td>\n",
       "      <td>...</td>\n",
       "      <td>0.014502</td>\n",
       "      <td>0.007691</td>\n",
       "      <td>-0.025002</td>\n",
       "      <td>-0.004711</td>\n",
       "      <td>0.003568</td>\n",
       "      <td>-0.010177</td>\n",
       "      <td>-0.066476</td>\n",
       "      <td>-0.012160</td>\n",
       "      <td>0.017803</td>\n",
       "      <td>44</td>\n",
       "    </tr>\n",
       "    <tr>\n",
       "      <th>2</th>\n",
       "      <td>0.003579</td>\n",
       "      <td>-0.009228</td>\n",
       "      <td>-0.062796</td>\n",
       "      <td>0.021353</td>\n",
       "      <td>-0.067594</td>\n",
       "      <td>-0.019499</td>\n",
       "      <td>0.029121</td>\n",
       "      <td>-0.013298</td>\n",
       "      <td>0.009264</td>\n",
       "      <td>-0.037961</td>\n",
       "      <td>...</td>\n",
       "      <td>0.038328</td>\n",
       "      <td>-0.005684</td>\n",
       "      <td>-0.033541</td>\n",
       "      <td>0.020269</td>\n",
       "      <td>-0.022111</td>\n",
       "      <td>-0.066562</td>\n",
       "      <td>0.012762</td>\n",
       "      <td>0.018555</td>\n",
       "      <td>0.002605</td>\n",
       "      <td>11</td>\n",
       "    </tr>\n",
       "    <tr>\n",
       "      <th>3</th>\n",
       "      <td>-0.043724</td>\n",
       "      <td>-0.011425</td>\n",
       "      <td>-0.051950</td>\n",
       "      <td>0.014659</td>\n",
       "      <td>-0.046709</td>\n",
       "      <td>-0.002156</td>\n",
       "      <td>-0.033904</td>\n",
       "      <td>0.004498</td>\n",
       "      <td>0.044775</td>\n",
       "      <td>-0.030488</td>\n",
       "      <td>...</td>\n",
       "      <td>-0.036184</td>\n",
       "      <td>-0.055876</td>\n",
       "      <td>0.012600</td>\n",
       "      <td>-0.016588</td>\n",
       "      <td>0.053944</td>\n",
       "      <td>-0.066483</td>\n",
       "      <td>-0.008629</td>\n",
       "      <td>-0.001444</td>\n",
       "      <td>0.025507</td>\n",
       "      <td>24</td>\n",
       "    </tr>\n",
       "    <tr>\n",
       "      <th>4</th>\n",
       "      <td>-0.019088</td>\n",
       "      <td>0.067039</td>\n",
       "      <td>-0.032487</td>\n",
       "      <td>-0.037979</td>\n",
       "      <td>0.014185</td>\n",
       "      <td>-0.007818</td>\n",
       "      <td>-0.059850</td>\n",
       "      <td>0.012668</td>\n",
       "      <td>-0.032715</td>\n",
       "      <td>0.009354</td>\n",
       "      <td>...</td>\n",
       "      <td>-0.065700</td>\n",
       "      <td>-0.043206</td>\n",
       "      <td>0.047978</td>\n",
       "      <td>-0.050414</td>\n",
       "      <td>0.024116</td>\n",
       "      <td>-0.046814</td>\n",
       "      <td>-0.002983</td>\n",
       "      <td>0.050728</td>\n",
       "      <td>0.038645</td>\n",
       "      <td>5</td>\n",
       "    </tr>\n",
       "  </tbody>\n",
       "</table>\n",
       "<p>5 rows × 769 columns</p>\n",
       "</div>"
      ],
      "text/plain": [
       "      feat0     feat1     feat2     feat3     feat4     feat5     feat6  \\\n",
       "0 -0.064713  0.020554 -0.069173 -0.028174 -0.063835 -0.054158 -0.056317   \n",
       "1 -0.006381  0.007817 -0.022947  0.039866 -0.052437  0.011669 -0.051878   \n",
       "2  0.003579 -0.009228 -0.062796  0.021353 -0.067594 -0.019499  0.029121   \n",
       "3 -0.043724 -0.011425 -0.051950  0.014659 -0.046709 -0.002156 -0.033904   \n",
       "4 -0.019088  0.067039 -0.032487 -0.037979  0.014185 -0.007818 -0.059850   \n",
       "\n",
       "      feat7     feat8     feat9  ...   feat759   feat760   feat761   feat762  \\\n",
       "0  0.001036 -0.038301 -0.027957  ... -0.049167 -0.019388 -0.045488 -0.051312   \n",
       "1 -0.026330  0.040994 -0.052231  ...  0.014502  0.007691 -0.025002 -0.004711   \n",
       "2 -0.013298  0.009264 -0.037961  ...  0.038328 -0.005684 -0.033541  0.020269   \n",
       "3  0.004498  0.044775 -0.030488  ... -0.036184 -0.055876  0.012600 -0.016588   \n",
       "4  0.012668 -0.032715  0.009354  ... -0.065700 -0.043206  0.047978 -0.050414   \n",
       "\n",
       "    feat763   feat764   feat765   feat766   feat767  Target  \n",
       "0 -0.022920 -0.034919 -0.020073 -0.052884  0.023714       8  \n",
       "1  0.003568 -0.010177 -0.066476 -0.012160  0.017803      44  \n",
       "2 -0.022111 -0.066562  0.012762  0.018555  0.002605      11  \n",
       "3  0.053944 -0.066483 -0.008629 -0.001444  0.025507      24  \n",
       "4  0.024116 -0.046814 -0.002983  0.050728  0.038645       5  \n",
       "\n",
       "[5 rows x 769 columns]"
      ]
     },
     "execution_count": 6,
     "metadata": {},
     "output_type": "execute_result"
    }
   ],
   "source": [
    "XY_train_df.head()"
   ]
  },
  {
   "cell_type": "code",
   "execution_count": 7,
   "id": "9eed9dcb",
   "metadata": {
    "execution": {
     "iopub.execute_input": "2023-03-17T17:07:42.083811Z",
     "iopub.status.busy": "2023-03-17T17:07:42.082834Z",
     "iopub.status.idle": "2023-03-17T17:07:42.093194Z",
     "shell.execute_reply": "2023-03-17T17:07:42.091980Z"
    },
    "papermill": {
     "duration": 0.021156,
     "end_time": "2023-03-17T17:07:42.095629",
     "exception": false,
     "start_time": "2023-03-17T17:07:42.074473",
     "status": "completed"
    },
    "tags": []
   },
   "outputs": [
    {
     "data": {
      "text/html": [
       "<div>\n",
       "<style scoped>\n",
       "    .dataframe tbody tr th:only-of-type {\n",
       "        vertical-align: middle;\n",
       "    }\n",
       "\n",
       "    .dataframe tbody tr th {\n",
       "        vertical-align: top;\n",
       "    }\n",
       "\n",
       "    .dataframe thead th {\n",
       "        text-align: right;\n",
       "    }\n",
       "</style>\n",
       "<table border=\"1\" class=\"dataframe\">\n",
       "  <thead>\n",
       "    <tr style=\"text-align: right;\">\n",
       "      <th></th>\n",
       "      <th>Target</th>\n",
       "    </tr>\n",
       "  </thead>\n",
       "  <tbody>\n",
       "    <tr>\n",
       "      <th>0</th>\n",
       "      <td>8</td>\n",
       "    </tr>\n",
       "    <tr>\n",
       "      <th>1</th>\n",
       "      <td>44</td>\n",
       "    </tr>\n",
       "    <tr>\n",
       "      <th>2</th>\n",
       "      <td>11</td>\n",
       "    </tr>\n",
       "    <tr>\n",
       "      <th>3</th>\n",
       "      <td>24</td>\n",
       "    </tr>\n",
       "    <tr>\n",
       "      <th>4</th>\n",
       "      <td>5</td>\n",
       "    </tr>\n",
       "  </tbody>\n",
       "</table>\n",
       "</div>"
      ],
      "text/plain": [
       "   Target\n",
       "0       8\n",
       "1      44\n",
       "2      11\n",
       "3      24\n",
       "4       5"
      ]
     },
     "execution_count": 7,
     "metadata": {},
     "output_type": "execute_result"
    }
   ],
   "source": [
    "Y_train_df.head()"
   ]
  },
  {
   "cell_type": "code",
   "execution_count": 8,
   "id": "a6b97354",
   "metadata": {
    "execution": {
     "iopub.execute_input": "2023-03-17T17:07:42.113819Z",
     "iopub.status.busy": "2023-03-17T17:07:42.112995Z",
     "iopub.status.idle": "2023-03-17T17:07:42.143781Z",
     "shell.execute_reply": "2023-03-17T17:07:42.142830Z"
    },
    "papermill": {
     "duration": 0.044267,
     "end_time": "2023-03-17T17:07:42.146835",
     "exception": false,
     "start_time": "2023-03-17T17:07:42.102568",
     "status": "completed"
    },
    "tags": []
   },
   "outputs": [
    {
     "data": {
      "text/html": [
       "<div>\n",
       "<style scoped>\n",
       "    .dataframe tbody tr th:only-of-type {\n",
       "        vertical-align: middle;\n",
       "    }\n",
       "\n",
       "    .dataframe tbody tr th {\n",
       "        vertical-align: top;\n",
       "    }\n",
       "\n",
       "    .dataframe thead th {\n",
       "        text-align: right;\n",
       "    }\n",
       "</style>\n",
       "<table border=\"1\" class=\"dataframe\">\n",
       "  <thead>\n",
       "    <tr style=\"text-align: right;\">\n",
       "      <th></th>\n",
       "      <th>feat0</th>\n",
       "      <th>feat1</th>\n",
       "      <th>feat2</th>\n",
       "      <th>feat3</th>\n",
       "      <th>feat4</th>\n",
       "      <th>feat5</th>\n",
       "      <th>feat6</th>\n",
       "      <th>feat7</th>\n",
       "      <th>feat8</th>\n",
       "      <th>feat9</th>\n",
       "      <th>...</th>\n",
       "      <th>feat758</th>\n",
       "      <th>feat759</th>\n",
       "      <th>feat760</th>\n",
       "      <th>feat761</th>\n",
       "      <th>feat762</th>\n",
       "      <th>feat763</th>\n",
       "      <th>feat764</th>\n",
       "      <th>feat765</th>\n",
       "      <th>feat766</th>\n",
       "      <th>feat767</th>\n",
       "    </tr>\n",
       "  </thead>\n",
       "  <tbody>\n",
       "    <tr>\n",
       "      <th>0</th>\n",
       "      <td>-0.064713</td>\n",
       "      <td>0.020554</td>\n",
       "      <td>-0.069173</td>\n",
       "      <td>-0.028174</td>\n",
       "      <td>-0.063835</td>\n",
       "      <td>-0.054158</td>\n",
       "      <td>-0.056317</td>\n",
       "      <td>0.001036</td>\n",
       "      <td>-0.038301</td>\n",
       "      <td>-0.027957</td>\n",
       "      <td>...</td>\n",
       "      <td>0.042405</td>\n",
       "      <td>-0.049167</td>\n",
       "      <td>-0.019388</td>\n",
       "      <td>-0.045488</td>\n",
       "      <td>-0.051312</td>\n",
       "      <td>-0.022920</td>\n",
       "      <td>-0.034919</td>\n",
       "      <td>-0.020073</td>\n",
       "      <td>-0.052884</td>\n",
       "      <td>0.023714</td>\n",
       "    </tr>\n",
       "    <tr>\n",
       "      <th>1</th>\n",
       "      <td>-0.006381</td>\n",
       "      <td>0.007817</td>\n",
       "      <td>-0.022947</td>\n",
       "      <td>0.039866</td>\n",
       "      <td>-0.052437</td>\n",
       "      <td>0.011669</td>\n",
       "      <td>-0.051878</td>\n",
       "      <td>-0.026330</td>\n",
       "      <td>0.040994</td>\n",
       "      <td>-0.052231</td>\n",
       "      <td>...</td>\n",
       "      <td>0.059453</td>\n",
       "      <td>0.014502</td>\n",
       "      <td>0.007691</td>\n",
       "      <td>-0.025002</td>\n",
       "      <td>-0.004711</td>\n",
       "      <td>0.003568</td>\n",
       "      <td>-0.010177</td>\n",
       "      <td>-0.066476</td>\n",
       "      <td>-0.012160</td>\n",
       "      <td>0.017803</td>\n",
       "    </tr>\n",
       "    <tr>\n",
       "      <th>2</th>\n",
       "      <td>0.003579</td>\n",
       "      <td>-0.009228</td>\n",
       "      <td>-0.062796</td>\n",
       "      <td>0.021353</td>\n",
       "      <td>-0.067594</td>\n",
       "      <td>-0.019499</td>\n",
       "      <td>0.029121</td>\n",
       "      <td>-0.013298</td>\n",
       "      <td>0.009264</td>\n",
       "      <td>-0.037961</td>\n",
       "      <td>...</td>\n",
       "      <td>-0.041462</td>\n",
       "      <td>0.038328</td>\n",
       "      <td>-0.005684</td>\n",
       "      <td>-0.033541</td>\n",
       "      <td>0.020269</td>\n",
       "      <td>-0.022111</td>\n",
       "      <td>-0.066562</td>\n",
       "      <td>0.012762</td>\n",
       "      <td>0.018555</td>\n",
       "      <td>0.002605</td>\n",
       "    </tr>\n",
       "    <tr>\n",
       "      <th>3</th>\n",
       "      <td>-0.043724</td>\n",
       "      <td>-0.011425</td>\n",
       "      <td>-0.051950</td>\n",
       "      <td>0.014659</td>\n",
       "      <td>-0.046709</td>\n",
       "      <td>-0.002156</td>\n",
       "      <td>-0.033904</td>\n",
       "      <td>0.004498</td>\n",
       "      <td>0.044775</td>\n",
       "      <td>-0.030488</td>\n",
       "      <td>...</td>\n",
       "      <td>-0.007816</td>\n",
       "      <td>-0.036184</td>\n",
       "      <td>-0.055876</td>\n",
       "      <td>0.012600</td>\n",
       "      <td>-0.016588</td>\n",
       "      <td>0.053944</td>\n",
       "      <td>-0.066483</td>\n",
       "      <td>-0.008629</td>\n",
       "      <td>-0.001444</td>\n",
       "      <td>0.025507</td>\n",
       "    </tr>\n",
       "    <tr>\n",
       "      <th>4</th>\n",
       "      <td>-0.019088</td>\n",
       "      <td>0.067039</td>\n",
       "      <td>-0.032487</td>\n",
       "      <td>-0.037979</td>\n",
       "      <td>0.014185</td>\n",
       "      <td>-0.007818</td>\n",
       "      <td>-0.059850</td>\n",
       "      <td>0.012668</td>\n",
       "      <td>-0.032715</td>\n",
       "      <td>0.009354</td>\n",
       "      <td>...</td>\n",
       "      <td>0.038573</td>\n",
       "      <td>-0.065700</td>\n",
       "      <td>-0.043206</td>\n",
       "      <td>0.047978</td>\n",
       "      <td>-0.050414</td>\n",
       "      <td>0.024116</td>\n",
       "      <td>-0.046814</td>\n",
       "      <td>-0.002983</td>\n",
       "      <td>0.050728</td>\n",
       "      <td>0.038645</td>\n",
       "    </tr>\n",
       "  </tbody>\n",
       "</table>\n",
       "<p>5 rows × 768 columns</p>\n",
       "</div>"
      ],
      "text/plain": [
       "      feat0     feat1     feat2     feat3     feat4     feat5     feat6  \\\n",
       "0 -0.064713  0.020554 -0.069173 -0.028174 -0.063835 -0.054158 -0.056317   \n",
       "1 -0.006381  0.007817 -0.022947  0.039866 -0.052437  0.011669 -0.051878   \n",
       "2  0.003579 -0.009228 -0.062796  0.021353 -0.067594 -0.019499  0.029121   \n",
       "3 -0.043724 -0.011425 -0.051950  0.014659 -0.046709 -0.002156 -0.033904   \n",
       "4 -0.019088  0.067039 -0.032487 -0.037979  0.014185 -0.007818 -0.059850   \n",
       "\n",
       "      feat7     feat8     feat9  ...   feat758   feat759   feat760   feat761  \\\n",
       "0  0.001036 -0.038301 -0.027957  ...  0.042405 -0.049167 -0.019388 -0.045488   \n",
       "1 -0.026330  0.040994 -0.052231  ...  0.059453  0.014502  0.007691 -0.025002   \n",
       "2 -0.013298  0.009264 -0.037961  ... -0.041462  0.038328 -0.005684 -0.033541   \n",
       "3  0.004498  0.044775 -0.030488  ... -0.007816 -0.036184 -0.055876  0.012600   \n",
       "4  0.012668 -0.032715  0.009354  ...  0.038573 -0.065700 -0.043206  0.047978   \n",
       "\n",
       "    feat762   feat763   feat764   feat765   feat766   feat767  \n",
       "0 -0.051312 -0.022920 -0.034919 -0.020073 -0.052884  0.023714  \n",
       "1 -0.004711  0.003568 -0.010177 -0.066476 -0.012160  0.017803  \n",
       "2  0.020269 -0.022111 -0.066562  0.012762  0.018555  0.002605  \n",
       "3 -0.016588  0.053944 -0.066483 -0.008629 -0.001444  0.025507  \n",
       "4 -0.050414  0.024116 -0.046814 -0.002983  0.050728  0.038645  \n",
       "\n",
       "[5 rows x 768 columns]"
      ]
     },
     "execution_count": 8,
     "metadata": {},
     "output_type": "execute_result"
    }
   ],
   "source": [
    "X_train_df.head()"
   ]
  },
  {
   "cell_type": "code",
   "execution_count": 9,
   "id": "d032698e",
   "metadata": {
    "execution": {
     "iopub.execute_input": "2023-03-17T17:07:42.171209Z",
     "iopub.status.busy": "2023-03-17T17:07:42.170230Z",
     "iopub.status.idle": "2023-03-17T17:07:42.205952Z",
     "shell.execute_reply": "2023-03-17T17:07:42.204524Z"
    },
    "papermill": {
     "duration": 0.050486,
     "end_time": "2023-03-17T17:07:42.208616",
     "exception": false,
     "start_time": "2023-03-17T17:07:42.158130",
     "status": "completed"
    },
    "tags": []
   },
   "outputs": [
    {
     "data": {
      "text/html": [
       "<div>\n",
       "<style scoped>\n",
       "    .dataframe tbody tr th:only-of-type {\n",
       "        vertical-align: middle;\n",
       "    }\n",
       "\n",
       "    .dataframe tbody tr th {\n",
       "        vertical-align: top;\n",
       "    }\n",
       "\n",
       "    .dataframe thead th {\n",
       "        text-align: right;\n",
       "    }\n",
       "</style>\n",
       "<table border=\"1\" class=\"dataframe\">\n",
       "  <thead>\n",
       "    <tr style=\"text-align: right;\">\n",
       "      <th></th>\n",
       "      <th>feat0</th>\n",
       "      <th>feat1</th>\n",
       "      <th>feat2</th>\n",
       "      <th>feat3</th>\n",
       "      <th>feat4</th>\n",
       "      <th>feat5</th>\n",
       "      <th>feat6</th>\n",
       "      <th>feat7</th>\n",
       "      <th>feat8</th>\n",
       "      <th>feat9</th>\n",
       "      <th>...</th>\n",
       "      <th>feat758</th>\n",
       "      <th>feat759</th>\n",
       "      <th>feat760</th>\n",
       "      <th>feat761</th>\n",
       "      <th>feat762</th>\n",
       "      <th>feat763</th>\n",
       "      <th>feat764</th>\n",
       "      <th>feat765</th>\n",
       "      <th>feat766</th>\n",
       "      <th>feat767</th>\n",
       "    </tr>\n",
       "  </thead>\n",
       "  <tbody>\n",
       "    <tr>\n",
       "      <th>0</th>\n",
       "      <td>-0.028341</td>\n",
       "      <td>-0.013976</td>\n",
       "      <td>0.027482</td>\n",
       "      <td>0.018902</td>\n",
       "      <td>-0.061030</td>\n",
       "      <td>-0.010846</td>\n",
       "      <td>-0.036913</td>\n",
       "      <td>-0.034498</td>\n",
       "      <td>0.058866</td>\n",
       "      <td>-0.014550</td>\n",
       "      <td>...</td>\n",
       "      <td>0.060303</td>\n",
       "      <td>-0.033084</td>\n",
       "      <td>-0.039746</td>\n",
       "      <td>0.038668</td>\n",
       "      <td>-0.024701</td>\n",
       "      <td>0.000322</td>\n",
       "      <td>-0.077359</td>\n",
       "      <td>0.024810</td>\n",
       "      <td>-0.036909</td>\n",
       "      <td>0.045314</td>\n",
       "    </tr>\n",
       "    <tr>\n",
       "      <th>1</th>\n",
       "      <td>-0.014473</td>\n",
       "      <td>-0.037281</td>\n",
       "      <td>0.017812</td>\n",
       "      <td>0.027492</td>\n",
       "      <td>0.020230</td>\n",
       "      <td>-0.009877</td>\n",
       "      <td>-0.054037</td>\n",
       "      <td>0.025131</td>\n",
       "      <td>0.029863</td>\n",
       "      <td>-0.029646</td>\n",
       "      <td>...</td>\n",
       "      <td>-0.002850</td>\n",
       "      <td>-0.043410</td>\n",
       "      <td>-0.012185</td>\n",
       "      <td>-0.049657</td>\n",
       "      <td>-0.005346</td>\n",
       "      <td>-0.014185</td>\n",
       "      <td>0.005000</td>\n",
       "      <td>-0.007676</td>\n",
       "      <td>0.025819</td>\n",
       "      <td>0.036317</td>\n",
       "    </tr>\n",
       "    <tr>\n",
       "      <th>2</th>\n",
       "      <td>-0.022636</td>\n",
       "      <td>-0.001754</td>\n",
       "      <td>-0.009812</td>\n",
       "      <td>-0.030182</td>\n",
       "      <td>-0.061902</td>\n",
       "      <td>0.032183</td>\n",
       "      <td>-0.079847</td>\n",
       "      <td>-0.030968</td>\n",
       "      <td>0.012289</td>\n",
       "      <td>0.009093</td>\n",
       "      <td>...</td>\n",
       "      <td>-0.032143</td>\n",
       "      <td>0.016097</td>\n",
       "      <td>-0.052526</td>\n",
       "      <td>0.046948</td>\n",
       "      <td>-0.007215</td>\n",
       "      <td>0.029919</td>\n",
       "      <td>-0.027418</td>\n",
       "      <td>-0.051822</td>\n",
       "      <td>0.014895</td>\n",
       "      <td>-0.043391</td>\n",
       "    </tr>\n",
       "    <tr>\n",
       "      <th>3</th>\n",
       "      <td>-0.040850</td>\n",
       "      <td>-0.023058</td>\n",
       "      <td>-0.033664</td>\n",
       "      <td>0.016514</td>\n",
       "      <td>-0.075332</td>\n",
       "      <td>-0.065355</td>\n",
       "      <td>-0.057857</td>\n",
       "      <td>0.007287</td>\n",
       "      <td>-0.013866</td>\n",
       "      <td>-0.010538</td>\n",
       "      <td>...</td>\n",
       "      <td>-0.054553</td>\n",
       "      <td>0.036248</td>\n",
       "      <td>-0.065568</td>\n",
       "      <td>0.011958</td>\n",
       "      <td>0.034914</td>\n",
       "      <td>-0.029956</td>\n",
       "      <td>-0.060300</td>\n",
       "      <td>-0.025076</td>\n",
       "      <td>0.040312</td>\n",
       "      <td>0.006233</td>\n",
       "    </tr>\n",
       "    <tr>\n",
       "      <th>4</th>\n",
       "      <td>0.005932</td>\n",
       "      <td>-0.038425</td>\n",
       "      <td>0.048765</td>\n",
       "      <td>0.021749</td>\n",
       "      <td>-0.065592</td>\n",
       "      <td>-0.034451</td>\n",
       "      <td>0.007840</td>\n",
       "      <td>-0.012663</td>\n",
       "      <td>0.003260</td>\n",
       "      <td>-0.010410</td>\n",
       "      <td>...</td>\n",
       "      <td>-0.029770</td>\n",
       "      <td>-0.043370</td>\n",
       "      <td>-0.063726</td>\n",
       "      <td>-0.004431</td>\n",
       "      <td>-0.012578</td>\n",
       "      <td>-0.062581</td>\n",
       "      <td>-0.068841</td>\n",
       "      <td>-0.040079</td>\n",
       "      <td>-0.040869</td>\n",
       "      <td>-0.014907</td>\n",
       "    </tr>\n",
       "  </tbody>\n",
       "</table>\n",
       "<p>5 rows × 768 columns</p>\n",
       "</div>"
      ],
      "text/plain": [
       "      feat0     feat1     feat2     feat3     feat4     feat5     feat6  \\\n",
       "0 -0.028341 -0.013976  0.027482  0.018902 -0.061030 -0.010846 -0.036913   \n",
       "1 -0.014473 -0.037281  0.017812  0.027492  0.020230 -0.009877 -0.054037   \n",
       "2 -0.022636 -0.001754 -0.009812 -0.030182 -0.061902  0.032183 -0.079847   \n",
       "3 -0.040850 -0.023058 -0.033664  0.016514 -0.075332 -0.065355 -0.057857   \n",
       "4  0.005932 -0.038425  0.048765  0.021749 -0.065592 -0.034451  0.007840   \n",
       "\n",
       "      feat7     feat8     feat9  ...   feat758   feat759   feat760   feat761  \\\n",
       "0 -0.034498  0.058866 -0.014550  ...  0.060303 -0.033084 -0.039746  0.038668   \n",
       "1  0.025131  0.029863 -0.029646  ... -0.002850 -0.043410 -0.012185 -0.049657   \n",
       "2 -0.030968  0.012289  0.009093  ... -0.032143  0.016097 -0.052526  0.046948   \n",
       "3  0.007287 -0.013866 -0.010538  ... -0.054553  0.036248 -0.065568  0.011958   \n",
       "4 -0.012663  0.003260 -0.010410  ... -0.029770 -0.043370 -0.063726 -0.004431   \n",
       "\n",
       "    feat762   feat763   feat764   feat765   feat766   feat767  \n",
       "0 -0.024701  0.000322 -0.077359  0.024810 -0.036909  0.045314  \n",
       "1 -0.005346 -0.014185  0.005000 -0.007676  0.025819  0.036317  \n",
       "2 -0.007215  0.029919 -0.027418 -0.051822  0.014895 -0.043391  \n",
       "3  0.034914 -0.029956 -0.060300 -0.025076  0.040312  0.006233  \n",
       "4 -0.012578 -0.062581 -0.068841 -0.040079 -0.040869 -0.014907  \n",
       "\n",
       "[5 rows x 768 columns]"
      ]
     },
     "execution_count": 9,
     "metadata": {},
     "output_type": "execute_result"
    }
   ],
   "source": [
    "X_test_df.head()"
   ]
  },
  {
   "cell_type": "code",
   "execution_count": 10,
   "id": "fa73014e",
   "metadata": {
    "execution": {
     "iopub.execute_input": "2023-03-17T17:07:42.226278Z",
     "iopub.status.busy": "2023-03-17T17:07:42.225861Z",
     "iopub.status.idle": "2023-03-17T17:07:43.024052Z",
     "shell.execute_reply": "2023-03-17T17:07:43.022893Z"
    },
    "papermill": {
     "duration": 0.810319,
     "end_time": "2023-03-17T17:07:43.026910",
     "exception": false,
     "start_time": "2023-03-17T17:07:42.216591",
     "status": "completed"
    },
    "tags": []
   },
   "outputs": [],
   "source": [
    "missing_data = XY_train_df.isnull()\n",
    "for col in missing_data.columns.values.tolist():\n",
    "    sum = missing_data[[col]].astype(bool).sum(axis=0)\n",
    "    if sum[0] != 0:\n",
    "        print(sum)\n",
    "        \n",
    "#no missing data"
   ]
  },
  {
   "cell_type": "code",
   "execution_count": 11,
   "id": "08d457db",
   "metadata": {
    "execution": {
     "iopub.execute_input": "2023-03-17T17:07:43.044372Z",
     "iopub.status.busy": "2023-03-17T17:07:43.043964Z",
     "iopub.status.idle": "2023-03-17T17:07:43.459070Z",
     "shell.execute_reply": "2023-03-17T17:07:43.457749Z"
    },
    "papermill": {
     "duration": 0.427391,
     "end_time": "2023-03-17T17:07:43.461991",
     "exception": false,
     "start_time": "2023-03-17T17:07:43.034600",
     "status": "completed"
    },
    "tags": []
   },
   "outputs": [
    {
     "data": {
      "text/plain": [
       "0       False\n",
       "1       False\n",
       "2       False\n",
       "3       False\n",
       "4       False\n",
       "        ...  \n",
       "1658    False\n",
       "1659    False\n",
       "1660    False\n",
       "1661    False\n",
       "1662    False\n",
       "Length: 1663, dtype: bool"
      ]
     },
     "execution_count": 11,
     "metadata": {},
     "output_type": "execute_result"
    }
   ],
   "source": [
    "XY_train_df.duplicated()"
   ]
  },
  {
   "cell_type": "code",
   "execution_count": 12,
   "id": "a764c7ae",
   "metadata": {
    "execution": {
     "iopub.execute_input": "2023-03-17T17:07:43.481824Z",
     "iopub.status.busy": "2023-03-17T17:07:43.480735Z",
     "iopub.status.idle": "2023-03-17T17:07:43.627459Z",
     "shell.execute_reply": "2023-03-17T17:07:43.626234Z"
    },
    "papermill": {
     "duration": 0.158881,
     "end_time": "2023-03-17T17:07:43.630407",
     "exception": false,
     "start_time": "2023-03-17T17:07:43.471526",
     "status": "completed"
    },
    "tags": []
   },
   "outputs": [
    {
     "data": {
      "text/plain": [
       "31"
      ]
     },
     "execution_count": 12,
     "metadata": {},
     "output_type": "execute_result"
    }
   ],
   "source": [
    "XY_train_df.duplicated().sum()\n",
    "#31 duplicate rows found"
   ]
  },
  {
   "cell_type": "code",
   "execution_count": 13,
   "id": "16303265",
   "metadata": {
    "execution": {
     "iopub.execute_input": "2023-03-17T17:07:43.648693Z",
     "iopub.status.busy": "2023-03-17T17:07:43.647520Z",
     "iopub.status.idle": "2023-03-17T17:07:43.803701Z",
     "shell.execute_reply": "2023-03-17T17:07:43.802362Z"
    },
    "papermill": {
     "duration": 0.168495,
     "end_time": "2023-03-17T17:07:43.806708",
     "exception": false,
     "start_time": "2023-03-17T17:07:43.638213",
     "status": "completed"
    },
    "tags": []
   },
   "outputs": [],
   "source": [
    "XY_train_df = XY_train_df.drop_duplicates()"
   ]
  },
  {
   "cell_type": "code",
   "execution_count": 14,
   "id": "b5a99650",
   "metadata": {
    "execution": {
     "iopub.execute_input": "2023-03-17T17:07:43.824538Z",
     "iopub.status.busy": "2023-03-17T17:07:43.824090Z",
     "iopub.status.idle": "2023-03-17T17:07:43.986118Z",
     "shell.execute_reply": "2023-03-17T17:07:43.984982Z"
    },
    "papermill": {
     "duration": 0.174043,
     "end_time": "2023-03-17T17:07:43.988793",
     "exception": false,
     "start_time": "2023-03-17T17:07:43.814750",
     "status": "completed"
    },
    "tags": []
   },
   "outputs": [
    {
     "data": {
      "text/plain": [
       "10"
      ]
     },
     "execution_count": 14,
     "metadata": {},
     "output_type": "execute_result"
    }
   ],
   "source": [
    "X_test_df.duplicated().sum()"
   ]
  },
  {
   "cell_type": "code",
   "execution_count": 15,
   "id": "5148db40",
   "metadata": {
    "execution": {
     "iopub.execute_input": "2023-03-17T17:07:44.007056Z",
     "iopub.status.busy": "2023-03-17T17:07:44.006230Z",
     "iopub.status.idle": "2023-03-17T17:07:44.118241Z",
     "shell.execute_reply": "2023-03-17T17:07:44.117240Z"
    },
    "papermill": {
     "duration": 0.1242,
     "end_time": "2023-03-17T17:07:44.120948",
     "exception": false,
     "start_time": "2023-03-17T17:07:43.996748",
     "status": "completed"
    },
    "tags": []
   },
   "outputs": [],
   "source": [
    "X_test_df = X_test_df.drop_duplicates()"
   ]
  },
  {
   "cell_type": "code",
   "execution_count": 16,
   "id": "d67c846c",
   "metadata": {
    "execution": {
     "iopub.execute_input": "2023-03-17T17:07:44.139455Z",
     "iopub.status.busy": "2023-03-17T17:07:44.138587Z",
     "iopub.status.idle": "2023-03-17T17:08:02.443950Z",
     "shell.execute_reply": "2023-03-17T17:08:02.442689Z"
    },
    "papermill": {
     "duration": 18.317651,
     "end_time": "2023-03-17T17:08:02.446950",
     "exception": false,
     "start_time": "2023-03-17T17:07:44.129299",
     "status": "completed"
    },
    "tags": []
   },
   "outputs": [],
   "source": [
    "import umap\n",
    "import matplotlib.pyplot as plt\n",
    "reducer = umap.UMAP(n_neighbors = 50)"
   ]
  },
  {
   "cell_type": "code",
   "execution_count": 17,
   "id": "f0a84b93",
   "metadata": {
    "execution": {
     "iopub.execute_input": "2023-03-17T17:08:02.465491Z",
     "iopub.status.busy": "2023-03-17T17:08:02.464703Z",
     "iopub.status.idle": "2023-03-17T17:08:17.662205Z",
     "shell.execute_reply": "2023-03-17T17:08:17.660830Z"
    },
    "papermill": {
     "duration": 15.212,
     "end_time": "2023-03-17T17:08:17.667038",
     "exception": false,
     "start_time": "2023-03-17T17:08:02.455038",
     "status": "completed"
    },
    "tags": []
   },
   "outputs": [
    {
     "data": {
      "image/png": "[encoded data removed]",
      "text/plain": [
       "<Figure size 640x480 with 2 Axes>"
      ]
     },
     "metadata": {},
     "output_type": "display_data"
    }
   ],
   "source": [
    "embedding = reducer.fit_transform(XY_train_df.iloc[:,:-1])\n",
    "\n",
    "plt.scatter(\n",
    "    embedding[:, 0],\n",
    "    embedding[:, 1],\n",
    "    c= XY_train_df.iloc[:,-1],\n",
    "    cmap = 'Spectral', s= 15\n",
    ")\n",
    "plt.gca().set_aspect('equal', 'datalim')\n",
    "plt.title('UMAP projection of XY_train_df', fontsize=24);\n",
    "plt.colorbar(boundaries=np.arange(45)-0.5).set_ticks(np.arange(44))"
   ]
  },
  {
   "cell_type": "code",
   "execution_count": 18,
   "id": "11fe6f29",
   "metadata": {
    "execution": {
     "iopub.execute_input": "2023-03-17T17:08:17.690696Z",
     "iopub.status.busy": "2023-03-17T17:08:17.690247Z",
     "iopub.status.idle": "2023-03-17T17:08:17.706441Z",
     "shell.execute_reply": "2023-03-17T17:08:17.705140Z"
    },
    "papermill": {
     "duration": 0.031547,
     "end_time": "2023-03-17T17:08:17.709404",
     "exception": false,
     "start_time": "2023-03-17T17:08:17.677857",
     "status": "completed"
    },
    "tags": []
   },
   "outputs": [],
   "source": [
    "outlier_scores = sklearn.neighbors.LocalOutlierFactor(novelty=False).fit_predict(embedding)"
   ]
  },
  {
   "cell_type": "code",
   "execution_count": 19,
   "id": "286e7afc",
   "metadata": {
    "execution": {
     "iopub.execute_input": "2023-03-17T17:08:17.732309Z",
     "iopub.status.busy": "2023-03-17T17:08:17.731879Z",
     "iopub.status.idle": "2023-03-17T17:08:17.739717Z",
     "shell.execute_reply": "2023-03-17T17:08:17.738648Z"
    },
    "papermill": {
     "duration": 0.022131,
     "end_time": "2023-03-17T17:08:17.742145",
     "exception": false,
     "start_time": "2023-03-17T17:08:17.720014",
     "status": "completed"
    },
    "tags": []
   },
   "outputs": [
    {
     "data": {
      "text/plain": [
       "(1, 769)"
      ]
     },
     "execution_count": 19,
     "metadata": {},
     "output_type": "execute_result"
    }
   ],
   "source": [
    "outlying_digits = XY_train_df[outlier_scores == -1]\n",
    "outlying_digits.shape"
   ]
  },
  {
   "cell_type": "code",
   "execution_count": 20,
   "id": "6c831d94",
   "metadata": {
    "execution": {
     "iopub.execute_input": "2023-03-17T17:08:17.765028Z",
     "iopub.status.busy": "2023-03-17T17:08:17.764570Z",
     "iopub.status.idle": "2023-03-17T17:08:17.777520Z",
     "shell.execute_reply": "2023-03-17T17:08:17.776257Z"
    },
    "papermill": {
     "duration": 0.027363,
     "end_time": "2023-03-17T17:08:17.779991",
     "exception": false,
     "start_time": "2023-03-17T17:08:17.752628",
     "status": "completed"
    },
    "tags": []
   },
   "outputs": [
    {
     "data": {
      "text/html": [
       "<div>\n",
       "<style scoped>\n",
       "    .dataframe tbody tr th:only-of-type {\n",
       "        vertical-align: middle;\n",
       "    }\n",
       "\n",
       "    .dataframe tbody tr th {\n",
       "        vertical-align: top;\n",
       "    }\n",
       "\n",
       "    .dataframe thead th {\n",
       "        text-align: right;\n",
       "    }\n",
       "</style>\n",
       "<table border=\"1\" class=\"dataframe\">\n",
       "  <thead>\n",
       "    <tr style=\"text-align: right;\">\n",
       "      <th></th>\n",
       "      <th>Target</th>\n",
       "    </tr>\n",
       "  </thead>\n",
       "  <tbody>\n",
       "    <tr>\n",
       "      <th>0</th>\n",
       "      <td>8</td>\n",
       "    </tr>\n",
       "    <tr>\n",
       "      <th>1</th>\n",
       "      <td>44</td>\n",
       "    </tr>\n",
       "    <tr>\n",
       "      <th>2</th>\n",
       "      <td>11</td>\n",
       "    </tr>\n",
       "    <tr>\n",
       "      <th>3</th>\n",
       "      <td>24</td>\n",
       "    </tr>\n",
       "    <tr>\n",
       "      <th>4</th>\n",
       "      <td>5</td>\n",
       "    </tr>\n",
       "    <tr>\n",
       "      <th>...</th>\n",
       "      <td>...</td>\n",
       "    </tr>\n",
       "    <tr>\n",
       "      <th>1658</th>\n",
       "      <td>20</td>\n",
       "    </tr>\n",
       "    <tr>\n",
       "      <th>1659</th>\n",
       "      <td>8</td>\n",
       "    </tr>\n",
       "    <tr>\n",
       "      <th>1660</th>\n",
       "      <td>34</td>\n",
       "    </tr>\n",
       "    <tr>\n",
       "      <th>1661</th>\n",
       "      <td>37</td>\n",
       "    </tr>\n",
       "    <tr>\n",
       "      <th>1662</th>\n",
       "      <td>29</td>\n",
       "    </tr>\n",
       "  </tbody>\n",
       "</table>\n",
       "<p>1632 rows × 1 columns</p>\n",
       "</div>"
      ],
      "text/plain": [
       "      Target\n",
       "0          8\n",
       "1         44\n",
       "2         11\n",
       "3         24\n",
       "4          5\n",
       "...      ...\n",
       "1658      20\n",
       "1659       8\n",
       "1660      34\n",
       "1661      37\n",
       "1662      29\n",
       "\n",
       "[1632 rows x 1 columns]"
      ]
     },
     "execution_count": 20,
     "metadata": {},
     "output_type": "execute_result"
    }
   ],
   "source": [
    "XY_train_df.loc[:, XY_train_df.columns == 'Target']"
   ]
  },
  {
   "cell_type": "code",
   "execution_count": 21,
   "id": "dc6d9b0f",
   "metadata": {
    "execution": {
     "iopub.execute_input": "2023-03-17T17:08:17.803310Z",
     "iopub.status.busy": "2023-03-17T17:08:17.802897Z",
     "iopub.status.idle": "2023-03-17T17:08:39.831082Z",
     "shell.execute_reply": "2023-03-17T17:08:39.829849Z"
    },
    "papermill": {
     "duration": 22.043018,
     "end_time": "2023-03-17T17:08:39.833790",
     "exception": false,
     "start_time": "2023-03-17T17:08:17.790772",
     "status": "completed"
    },
    "tags": []
   },
   "outputs": [
    {
     "name": "stdout",
     "output_type": "stream",
     "text": [
      "Epoch 1/50\n",
      "21/21 [==============================] - 2s 23ms/step - loss: 3.6317 - accuracy: 0.0904 - val_loss: 3.3446 - val_accuracy: 0.0948\n",
      "Epoch 2/50\n",
      "21/21 [==============================] - 0s 11ms/step - loss: 3.1690 - accuracy: 0.2291 - val_loss: 2.8365 - val_accuracy: 0.3609\n",
      "Epoch 3/50\n",
      "21/21 [==============================] - 0s 11ms/step - loss: 2.6666 - accuracy: 0.3441 - val_loss: 2.3907 - val_accuracy: 0.3914\n",
      "Epoch 4/50\n",
      "21/21 [==============================] - 0s 11ms/step - loss: 2.2822 - accuracy: 0.4015 - val_loss: 2.1293 - val_accuracy: 0.4404\n",
      "Epoch 5/50\n",
      "21/21 [==============================] - 0s 11ms/step - loss: 1.9803 - accuracy: 0.4452 - val_loss: 1.9837 - val_accuracy: 0.4862\n",
      "Epoch 6/50\n",
      "21/21 [==============================] - 0s 11ms/step - loss: 1.7643 - accuracy: 0.5042 - val_loss: 1.8275 - val_accuracy: 0.4893\n",
      "Epoch 7/50\n",
      "21/21 [==============================] - 0s 11ms/step - loss: 1.5441 - accuracy: 0.5701 - val_loss: 1.6704 - val_accuracy: 0.5352\n",
      "Epoch 8/50\n",
      "21/21 [==============================] - 0s 11ms/step - loss: 1.3707 - accuracy: 0.6008 - val_loss: 1.6468 - val_accuracy: 0.5505\n",
      "Epoch 9/50\n",
      "21/21 [==============================] - 0s 11ms/step - loss: 1.2209 - accuracy: 0.6437 - val_loss: 1.5616 - val_accuracy: 0.5413\n",
      "Epoch 10/50\n",
      "21/21 [==============================] - 0s 11ms/step - loss: 1.0874 - accuracy: 0.6736 - val_loss: 1.5498 - val_accuracy: 0.5657\n",
      "Epoch 11/50\n",
      "21/21 [==============================] - 0s 11ms/step - loss: 0.9700 - accuracy: 0.7295 - val_loss: 1.4565 - val_accuracy: 0.5810\n",
      "Epoch 12/50\n",
      "21/21 [==============================] - 0s 11ms/step - loss: 0.9088 - accuracy: 0.7349 - val_loss: 1.5009 - val_accuracy: 0.5963\n",
      "Epoch 13/50\n",
      "21/21 [==============================] - 0s 11ms/step - loss: 0.7884 - accuracy: 0.7563 - val_loss: 1.4884 - val_accuracy: 0.5810\n",
      "Epoch 14/50\n",
      "21/21 [==============================] - 0s 11ms/step - loss: 0.7227 - accuracy: 0.7870 - val_loss: 1.4589 - val_accuracy: 0.5810\n",
      "Epoch 15/50\n",
      "21/21 [==============================] - 0s 11ms/step - loss: 0.6588 - accuracy: 0.8100 - val_loss: 1.4349 - val_accuracy: 0.5933\n",
      "Epoch 16/50\n",
      "21/21 [==============================] - 0s 11ms/step - loss: 0.5853 - accuracy: 0.8169 - val_loss: 1.5056 - val_accuracy: 0.5627\n",
      "Epoch 17/50\n",
      "21/21 [==============================] - 0s 11ms/step - loss: 0.5313 - accuracy: 0.8414 - val_loss: 1.4783 - val_accuracy: 0.5780\n",
      "Epoch 18/50\n",
      "21/21 [==============================] - 0s 12ms/step - loss: 0.4701 - accuracy: 0.8636 - val_loss: 1.5298 - val_accuracy: 0.6024\n",
      "Epoch 19/50\n",
      "21/21 [==============================] - 0s 11ms/step - loss: 0.4183 - accuracy: 0.8743 - val_loss: 1.4844 - val_accuracy: 0.6116\n",
      "Epoch 20/50\n",
      "21/21 [==============================] - 0s 11ms/step - loss: 0.3648 - accuracy: 0.8935 - val_loss: 1.5317 - val_accuracy: 0.5902\n",
      "Epoch 21/50\n",
      "21/21 [==============================] - 0s 11ms/step - loss: 0.3383 - accuracy: 0.9019 - val_loss: 1.5581 - val_accuracy: 0.5749\n",
      "Epoch 22/50\n",
      "21/21 [==============================] - 0s 14ms/step - loss: 0.3059 - accuracy: 0.9096 - val_loss: 1.5113 - val_accuracy: 0.5933\n",
      "Epoch 23/50\n",
      "21/21 [==============================] - 0s 14ms/step - loss: 0.2877 - accuracy: 0.9203 - val_loss: 1.5489 - val_accuracy: 0.5902\n",
      "Epoch 24/50\n",
      "21/21 [==============================] - 0s 12ms/step - loss: 0.2513 - accuracy: 0.9303 - val_loss: 1.5773 - val_accuracy: 0.5933\n",
      "Epoch 25/50\n",
      "21/21 [==============================] - 0s 12ms/step - loss: 0.2034 - accuracy: 0.9510 - val_loss: 1.6267 - val_accuracy: 0.5933\n",
      "Epoch 26/50\n",
      "21/21 [==============================] - 0s 12ms/step - loss: 0.1905 - accuracy: 0.9502 - val_loss: 1.6305 - val_accuracy: 0.5933\n",
      "Epoch 27/50\n",
      "21/21 [==============================] - 0s 12ms/step - loss: 0.1920 - accuracy: 0.9441 - val_loss: 1.6235 - val_accuracy: 0.5994\n",
      "Epoch 28/50\n",
      "21/21 [==============================] - 0s 11ms/step - loss: 0.1784 - accuracy: 0.9571 - val_loss: 1.7146 - val_accuracy: 0.6116\n",
      "Epoch 29/50\n",
      "21/21 [==============================] - 0s 13ms/step - loss: 0.1653 - accuracy: 0.9548 - val_loss: 1.6842 - val_accuracy: 0.5963\n",
      "Epoch 30/50\n",
      "21/21 [==============================] - 0s 11ms/step - loss: 0.1265 - accuracy: 0.9716 - val_loss: 1.7016 - val_accuracy: 0.6055\n",
      "Epoch 31/50\n",
      "21/21 [==============================] - 0s 11ms/step - loss: 0.1264 - accuracy: 0.9625 - val_loss: 1.7515 - val_accuracy: 0.5994\n",
      "Epoch 32/50\n",
      "21/21 [==============================] - 0s 11ms/step - loss: 0.1208 - accuracy: 0.9701 - val_loss: 1.7809 - val_accuracy: 0.5902\n",
      "Epoch 33/50\n",
      "21/21 [==============================] - 0s 11ms/step - loss: 0.1116 - accuracy: 0.9709 - val_loss: 1.7796 - val_accuracy: 0.5872\n",
      "Epoch 34/50\n",
      "21/21 [==============================] - 0s 11ms/step - loss: 0.1183 - accuracy: 0.9693 - val_loss: 1.7758 - val_accuracy: 0.5963\n",
      "Epoch 35/50\n",
      "21/21 [==============================] - 0s 11ms/step - loss: 0.1192 - accuracy: 0.9693 - val_loss: 1.8258 - val_accuracy: 0.5902\n",
      "Epoch 36/50\n",
      "21/21 [==============================] - 0s 11ms/step - loss: 0.1070 - accuracy: 0.9747 - val_loss: 1.8070 - val_accuracy: 0.6055\n",
      "Epoch 37/50\n",
      "21/21 [==============================] - 0s 10ms/step - loss: 0.0934 - accuracy: 0.9770 - val_loss: 1.8399 - val_accuracy: 0.5963\n",
      "Epoch 38/50\n",
      "21/21 [==============================] - 0s 11ms/step - loss: 0.0839 - accuracy: 0.9762 - val_loss: 1.8401 - val_accuracy: 0.6116\n",
      "Epoch 39/50\n",
      "21/21 [==============================] - 0s 11ms/step - loss: 0.0808 - accuracy: 0.9877 - val_loss: 1.9109 - val_accuracy: 0.5902\n",
      "Epoch 40/50\n",
      "21/21 [==============================] - 0s 11ms/step - loss: 0.0631 - accuracy: 0.9877 - val_loss: 1.9207 - val_accuracy: 0.5994\n",
      "Epoch 41/50\n",
      "21/21 [==============================] - 0s 11ms/step - loss: 0.0701 - accuracy: 0.9862 - val_loss: 1.9303 - val_accuracy: 0.5841\n",
      "Epoch 42/50\n",
      "21/21 [==============================] - 0s 11ms/step - loss: 0.0695 - accuracy: 0.9854 - val_loss: 1.9310 - val_accuracy: 0.6024\n",
      "Epoch 43/50\n",
      "21/21 [==============================] - 0s 13ms/step - loss: 0.0564 - accuracy: 0.9908 - val_loss: 1.9615 - val_accuracy: 0.6147\n",
      "Epoch 44/50\n",
      "21/21 [==============================] - 0s 11ms/step - loss: 0.0613 - accuracy: 0.9854 - val_loss: 2.0011 - val_accuracy: 0.5933\n",
      "Epoch 45/50\n",
      "21/21 [==============================] - 0s 11ms/step - loss: 0.0568 - accuracy: 0.9847 - val_loss: 2.0058 - val_accuracy: 0.5872\n",
      "Epoch 46/50\n",
      "21/21 [==============================] - 0s 11ms/step - loss: 0.0487 - accuracy: 0.9908 - val_loss: 2.0429 - val_accuracy: 0.5994\n",
      "Epoch 47/50\n",
      "21/21 [==============================] - 0s 11ms/step - loss: 0.0432 - accuracy: 0.9900 - val_loss: 2.0420 - val_accuracy: 0.6116\n",
      "Epoch 48/50\n",
      "21/21 [==============================] - 0s 11ms/step - loss: 0.0487 - accuracy: 0.9885 - val_loss: 2.0586 - val_accuracy: 0.6055\n",
      "Epoch 49/50\n",
      "21/21 [==============================] - 0s 11ms/step - loss: 0.0460 - accuracy: 0.9885 - val_loss: 2.1024 - val_accuracy: 0.6024\n",
      "Epoch 50/50\n",
      "21/21 [==============================] - 0s 11ms/step - loss: 0.0451 - accuracy: 0.9931 - val_loss: 2.0373 - val_accuracy: 0.6147\n"
     ]
    },
    {
     "data": {
      "text/plain": [
       "<keras.callbacks.History at 0x7fea0b279bd0>"
      ]
     },
     "execution_count": 21,
     "metadata": {},
     "output_type": "execute_result"
    }
   ],
   "source": [
    "# Define the model\n",
    "model = Sequential()\n",
    "model.add(Dense(units=512, activation='relu', input_dim=X_train.shape[1]))\n",
    "model.add(Dropout(0.2))\n",
    "model.add(Dense(units=256, activation='relu'))\n",
    "model.add(Dropout(0.2))\n",
    "model.add(Dense(units=128, activation='relu'))\n",
    "model.add(Dropout(0.2))\n",
    "model.add(Dense(units=45, activation='softmax'))\n",
    "\n",
    "# Compile model\n",
    "model.compile(optimizer='adam', loss='sparse_categorical_crossentropy', metrics=['accuracy'])\n",
    "\n",
    "# Train model\n",
    "model.fit(XY_train_df.loc[:, XY_train_df.columns != 'Target'], XY_train_df.loc[:, XY_train_df.columns == 'Target'], validation_split=0.2, epochs=50, batch_size=64)"
   ]
  },
  {
   "cell_type": "code",
   "execution_count": 22,
   "id": "ffd91a6d",
   "metadata": {
    "execution": {
     "iopub.execute_input": "2023-03-17T17:08:39.895505Z",
     "iopub.status.busy": "2023-03-17T17:08:39.895045Z",
     "iopub.status.idle": "2023-03-17T17:08:40.155801Z",
     "shell.execute_reply": "2023-03-17T17:08:40.154731Z"
    },
    "papermill": {
     "duration": 0.294599,
     "end_time": "2023-03-17T17:08:40.158451",
     "exception": false,
     "start_time": "2023-03-17T17:08:39.863852",
     "status": "completed"
    },
    "tags": []
   },
   "outputs": [
    {
     "name": "stdout",
     "output_type": "stream",
     "text": [
      "22/22 [==============================] - 0s 3ms/step\n"
     ]
    }
   ],
   "source": [
    "y_pred = model.predict(X_test_df)"
   ]
  },
  {
   "cell_type": "code",
   "execution_count": 23,
   "id": "c0d3f177",
   "metadata": {
    "execution": {
     "iopub.execute_input": "2023-03-17T17:08:40.220631Z",
     "iopub.status.busy": "2023-03-17T17:08:40.219491Z",
     "iopub.status.idle": "2023-03-17T17:08:40.227792Z",
     "shell.execute_reply": "2023-03-17T17:08:40.226545Z"
    },
    "papermill": {
     "duration": 0.042142,
     "end_time": "2023-03-17T17:08:40.230570",
     "exception": false,
     "start_time": "2023-03-17T17:08:40.188428",
     "status": "completed"
    },
    "tags": []
   },
   "outputs": [
    {
     "data": {
      "text/plain": [
       "array([[9.32438299e-03, 8.75369296e-05, 1.26438745e-05, ...,\n",
       "        1.07393712e-08, 3.45035374e-07, 8.12368853e-06],\n",
       "       [1.15996785e-02, 6.57541648e-07, 4.29150416e-03, ...,\n",
       "        2.38141307e-04, 6.76852418e-04, 6.20499207e-03],\n",
       "       [6.45217369e-07, 1.64114333e-10, 1.62788290e-08, ...,\n",
       "        2.81255619e-09, 1.71656234e-06, 1.35690883e-07],\n",
       "       ...,\n",
       "       [2.90425306e-09, 5.20461413e-07, 1.33632047e-16, ...,\n",
       "        1.02383284e-08, 5.46638602e-11, 1.88667717e-18],\n",
       "       [9.57669377e-01, 3.98479277e-10, 4.80527943e-03, ...,\n",
       "        4.15438628e-10, 9.68379977e-12, 3.91641519e-09],\n",
       "       [8.13527673e-04, 5.44044440e-07, 6.19987957e-04, ...,\n",
       "        1.27329855e-04, 1.04276114e-06, 9.76289357e-07]], dtype=float32)"
      ]
     },
     "execution_count": 23,
     "metadata": {},
     "output_type": "execute_result"
    }
   ],
   "source": [
    "y_pred"
   ]
  }
 ],
 "metadata": {
  "kernelspec": {
   "display_name": "Python 3",
   "language": "python",
   "name": "python3"
  },
  "language_info": {
   "codemirror_mode": {
    "name": "ipython",
    "version": 3
   },
   "file_extension": ".py",
   "mimetype": "text/x-python",
   "name": "python",
   "nbconvert_exporter": "python",
   "pygments_lexer": "ipython3",
   "version": "3.7.12"
  },
  "papermill": {
   "default_parameters": {},
   "duration": 81.820403,
   "end_time": "2023-03-17T17:08:42.947559",
   "environment_variables": {},
   "exception": null,
   "input_path": "__notebook__.ipynb",
   "output_path": "__notebook__.ipynb",
   "parameters": {},
   "start_time": "2023-03-17T17:07:21.127156",
   "version": "2.4.0"
  }
 },
 "nbformat": 4,
 "nbformat_minor": 5
}
